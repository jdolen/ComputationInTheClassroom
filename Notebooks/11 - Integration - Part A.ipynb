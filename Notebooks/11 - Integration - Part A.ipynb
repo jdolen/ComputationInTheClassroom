{
 "cells": [
  {
   "cell_type": "code",
   "execution_count": 32,
   "id": "ce6ec230",
   "metadata": {},
   "outputs": [],
   "source": [
    "import numpy as np\n",
    "import matplotlib.pyplot as plt"
   ]
  },
  {
   "cell_type": "markdown",
   "id": "546085d8",
   "metadata": {},
   "source": [
    "# Integration with Python - Introduction\n",
    "\n",
    "We will practice first by defining an integral we can solve easily by hand. We will then compare the numerical integration results to the true value. Later we will use these numerical techniques to solve integrals which can not be solved analytically.\n",
    "\n",
    "Lets use the same function defined in the book:\n",
    "\n",
    "Define $f(x) = x^4-2x +1$\n",
    "\n",
    "Note $\\int_0^2 (x^4-2x +1) dx = (\\frac{x^5}{5} - x^2 + x) \\big|_0^2 = 32/5 - 4 + 2 = 4.4 $"
   ]
  },
  {
   "cell_type": "code",
   "execution_count": 33,
   "id": "9979a75a",
   "metadata": {},
   "outputs": [],
   "source": [
    "def f(x):\n",
    "    return x**4 - 2*x +1"
   ]
  },
  {
   "cell_type": "code",
   "execution_count": 34,
   "id": "1ef9dece",
   "metadata": {},
   "outputs": [],
   "source": [
    "integral_true = 4.4"
   ]
  },
  {
   "cell_type": "code",
   "execution_count": 35,
   "id": "9cb086ab",
   "metadata": {},
   "outputs": [
    {
     "name": "stdout",
     "output_type": "stream",
     "text": [
      "Step size  0.2\n"
     ]
    }
   ],
   "source": [
    "# Define parameters for numerical integration\n",
    "N = 10  # Number of slices\n",
    "a = 0.0 # Lower bound\n",
    "b = 2.0 # Upper bound\n",
    "w = (b-a)/N # Step size\n",
    "print(\"Step size \",w)"
   ]
  },
  {
   "cell_type": "code",
   "execution_count": 36,
   "id": "7d0bc059",
   "metadata": {},
   "outputs": [
    {
     "name": "stdout",
     "output_type": "stream",
     "text": [
      "[0.  0.2 0.4 0.6 0.8 1.  1.2 1.4 1.6 1.8 2. ]\n"
     ]
    },
    {
     "data": {
      "image/png": "[encoded data removed]",
      "text/plain": [
       "<Figure size 432x288 with 1 Axes>"
      ]
     },
     "metadata": {
      "needs_background": "light"
     },
     "output_type": "display_data"
    }
   ],
   "source": [
    "# Visualize numerical integration using rectangles\n",
    "ax = plt.axes(xlim=(a, b), ylim = (-0.5, 15)) \n",
    "\n",
    "# Plot the function\n",
    "x = np.linspace(a, b, 1000) # Use many points so it is smooth\n",
    "y = f(x)  \n",
    "ax.plot(x, y, c='blue', label='$x^4 -2x+1$') \n",
    "ax.legend()\n",
    "\n",
    "# Plot the rectangles\n",
    "x = np.linspace(a, b, N + 1) \n",
    "print(x)\n",
    "y = f(x)      \n",
    "bar = ax.bar(x, y, width=w, alpha=0.4, align='edge', color='green', edgecolor='green', lw=2)"
   ]
  },
  {
   "cell_type": "code",
   "execution_count": 37,
   "id": "94e94edb",
   "metadata": {},
   "outputs": [
    {
     "name": "stdout",
     "output_type": "stream",
     "text": [
      "Step size  0.2\n",
      "Step locations [0.  0.2 0.4 0.6 0.8 1.  1.2 1.4 1.6 1.8]\n",
      "Integral = 3.306560000000001\n"
     ]
    }
   ],
   "source": [
    "# Integrating a function\n",
    "#   with rectangular slices (Left Riemann sum)\n",
    "\n",
    "N = 10  # Number of slices\n",
    "a = 0.0 # Lower bound\n",
    "b = 2.0 # Upper bound\n",
    "w = (b-a)/N # Step size\n",
    "print(\"Step size \",w)\n",
    "\n",
    "# Create an array entry for each step \n",
    "x = np.linspace(a, b, N, endpoint = False)\n",
    "print(\"Step locations\",x)\n",
    "\n",
    "# Calculate numerical integral\n",
    "s=0 \n",
    "for k in x:\n",
    "    s+= f(k)*w\n",
    "print(\"Integral =\",s)"
   ]
  },
  {
   "cell_type": "code",
   "execution_count": 38,
   "id": "71136a8b",
   "metadata": {},
   "outputs": [],
   "source": [
    "# Define the same integral estimator as a function\n",
    "def rectangular_integral_left(N,a,b): \n",
    "    # Step size\n",
    "    w = (b-a)/N \n",
    "\n",
    "    # Create an array entry for each step \n",
    "    x = np.linspace(a, b, N, endpoint = False)\n",
    "\n",
    "    # Calculate numerical integral\n",
    "    s=0 \n",
    "    for k in x:\n",
    "        s+= f(k)*w\n",
    "    return s"
   ]
  },
  {
   "cell_type": "code",
   "execution_count": 39,
   "id": "d35669b8",
   "metadata": {},
   "outputs": [
    {
     "name": "stdout",
     "output_type": "stream",
     "text": [
      "With  1000  iterations we found I =  4.3880106666656\n"
     ]
    },
    {
     "data": {
      "image/png": "[encoded data removed]",
      "text/plain": [
       "<Figure size 432x288 with 1 Axes>"
      ]
     },
     "metadata": {
      "needs_background": "light"
     },
     "output_type": "display_data"
    }
   ],
   "source": [
    "# Check how the integral result changes with increasing N\n",
    "N_array = np.arange(10,1005,5,dtype='int64')\n",
    "integral_results_rect_left = []\n",
    "for N in N_array:\n",
    "    integral_results_rect_left.append(rectangular_integral_left(N,a,b))\n",
    "\n",
    "plt.plot(N_array,integral_results_rect_left,\"o\")\n",
    "plt.xlabel(\"N\")\n",
    "plt.ylabel(\"Integral Result\")\n",
    "\n",
    "print(\"With \",N_array[-1],\" iterations we found I = \",integral_results_rect_left[-1])"
   ]
  },
  {
   "cell_type": "code",
   "execution_count": 40,
   "id": "d332d989",
   "metadata": {},
   "outputs": [
    {
     "name": "stdout",
     "output_type": "stream",
     "text": [
      "Step size  0.2\n",
      "Step locations [0.1 0.3 0.5 0.7 0.9 1.1 1.3 1.5 1.7 1.9]\n",
      "Integral = 4.346760000000002\n"
     ]
    }
   ],
   "source": [
    "# Integrating a function\n",
    "#   with rectangular slices (Midpoint Riemann sum)\n",
    "\n",
    "N = 10  # Number of slices\n",
    "a = 0.0 # Lower bound\n",
    "b = 2.0 # Upper bound\n",
    "w = (b-a)/N # Step size\n",
    "print(\"Step size \",w)\n",
    "\n",
    "# Create an array entry for each step \n",
    "x = np.linspace(a+w/2, b+w/2, N, endpoint = False)\n",
    "print(\"Step locations\",x)\n",
    "\n",
    "# Calculate numerical integral\n",
    "s=0 \n",
    "for k in x:\n",
    "    s+= f(k)*w\n",
    "print(\"Integral =\",s)"
   ]
  },
  {
   "cell_type": "code",
   "execution_count": 41,
   "id": "a1962e0a",
   "metadata": {},
   "outputs": [],
   "source": [
    "# Now lets do the same but with a function\n",
    "def rectangular_integral_midpoint(N,a,b):\n",
    "\n",
    "    # Step size\n",
    "    w = (b-a)/N \n",
    "\n",
    "    # Create an array entry for each step \n",
    "    x = np.linspace(a+w/2, b+w/2, N, endpoint = False)\n",
    "\n",
    "    # Calculate numerical integral\n",
    "    s=0 \n",
    "    for k in x:\n",
    "        s+= f(k)*w\n",
    "    return s"
   ]
  },
  {
   "cell_type": "code",
   "execution_count": 42,
   "id": "73861fdf",
   "metadata": {},
   "outputs": [
    {
     "name": "stdout",
     "output_type": "stream",
     "text": [
      "With  1000  iterations we found I =  4.399994666667596\n"
     ]
    },
    {
     "data": {
      "image/png": "[encoded data removed]",
      "text/plain": [
       "<Figure size 432x288 with 1 Axes>"
      ]
     },
     "metadata": {
      "needs_background": "light"
     },
     "output_type": "display_data"
    }
   ],
   "source": [
    "# Check how the integral result changes with increasing N\n",
    "N_array = np.arange(10,1005,5,dtype='int64')\n",
    "integral_results_rect_mid = []\n",
    "for N in N_array:\n",
    "    integral_results_rect_mid.append(rectangular_integral_midpoint(N,a,b))\n",
    "\n",
    "plt.plot(N_array,integral_results_rect_mid,\"o\")\n",
    "plt.xlabel(\"N\")\n",
    "plt.ylabel(\"Integral Result\")\n",
    "\n",
    "print(\"With \",N_array[-1],\" iterations we found I = \",integral_results_rect_mid[-1])"
   ]
  },
  {
   "cell_type": "code",
   "execution_count": null,
   "id": "4a056c3f",
   "metadata": {},
   "outputs": [],
   "source": []
  },
  {
   "cell_type": "code",
   "execution_count": 43,
   "id": "3b46c3a8",
   "metadata": {},
   "outputs": [],
   "source": [
    "# Now lets do the same but with a function\n",
    "def rectangular_integral_right(N,a,b):\n",
    "\n",
    "    # Step size\n",
    "    w = (b-a)/N \n",
    "\n",
    "    # Create an array entry for each step \n",
    "    x = np.linspace(a+w, b+w, N, endpoint = False)\n",
    "\n",
    "    # Calculate numerical integral\n",
    "    s=0 \n",
    "    for k in x:\n",
    "        s+= f(k)*w\n",
    "    return s"
   ]
  },
  {
   "cell_type": "code",
   "execution_count": 44,
   "id": "115b3724",
   "metadata": {},
   "outputs": [
    {
     "name": "stdout",
     "output_type": "stream",
     "text": [
      "With  1000  iterations we found I =  4.412010666665594\n"
     ]
    },
    {
     "data": {
      "image/png": "[encoded data removed]",
      "text/plain": [
       "<Figure size 432x288 with 1 Axes>"
      ]
     },
     "metadata": {
      "needs_background": "light"
     },
     "output_type": "display_data"
    }
   ],
   "source": [
    "# Check how the integral result changes with increasing N\n",
    "N_array = np.arange(10,1005,5,dtype='int64')\n",
    "integral_results_rect_right = []\n",
    "for N in N_array:\n",
    "    integral_results_rect_right.append(rectangular_integral_right(N,a,b))\n",
    "\n",
    "plt.plot(N_array,integral_results_rect_right,\"o\")\n",
    "plt.xlabel(\"N\")\n",
    "plt.ylabel(\"Integral Result\")\n",
    "\n",
    "print(\"With \",N_array[-1],\" iterations we found I = \",integral_results_rect_right[-1])"
   ]
  },
  {
   "cell_type": "code",
   "execution_count": 45,
   "id": "d46aab32",
   "metadata": {},
   "outputs": [
    {
     "data": {
      "text/plain": [
       "Text(0, 0.5, 'Integral Result')"
      ]
     },
     "execution_count": 45,
     "metadata": {},
     "output_type": "execute_result"
    },
    {
     "data": {
      "image/png": "[encoded data removed]",
      "text/plain": [
       "<Figure size 432x288 with 1 Axes>"
      ]
     },
     "metadata": {
      "needs_background": "light"
     },
     "output_type": "display_data"
    }
   ],
   "source": [
    "plt.plot(N_array,integral_results_rect_left,\"o\",label=\"Left\")\n",
    "plt.plot(N_array,integral_results_rect_mid,\"o\",label=\"Midpoint\")\n",
    "plt.plot(N_array,integral_results_rect_right,\"o\",label=\"Right\")\n",
    "plt.grid(True)\n",
    "plt.legend(loc='upper right', fontsize='x-large')\n",
    "plt.xlabel(\"N\")\n",
    "plt.ylabel(\"Integral Result\")"
   ]
  },
  {
   "cell_type": "code",
   "execution_count": 46,
   "id": "bc1c5d7b",
   "metadata": {},
   "outputs": [
    {
     "data": {
      "text/plain": [
       "(4.3, 4.5)"
      ]
     },
     "execution_count": 46,
     "metadata": {},
     "output_type": "execute_result"
    },
    {
     "data": {
      "image/png": "[encoded data removed]",
      "text/plain": [
       "<Figure size 432x288 with 1 Axes>"
      ]
     },
     "metadata": {
      "needs_background": "light"
     },
     "output_type": "display_data"
    }
   ],
   "source": [
    "plt.plot(N_array,integral_results_rect_left,\"-\",label=\"Left\")\n",
    "plt.plot(N_array,integral_results_rect_mid,\"-\",label=\"Midpoint\")\n",
    "plt.plot(N_array,integral_results_rect_right,\"-\",label=\"Right\")\n",
    "plt.grid(True)\n",
    "plt.legend(loc='upper right', fontsize='x-large')\n",
    "plt.xlabel(\"N\")\n",
    "plt.ylabel(\"Integral Result\")\n",
    "plt.ylim(4.3,4.5)"
   ]
  },
  {
   "cell_type": "code",
   "execution_count": 47,
   "id": "7a789d04",
   "metadata": {},
   "outputs": [
    {
     "name": "stdout",
     "output_type": "stream",
     "text": [
      "Step size  0.2\n",
      "Steps [ 1  2  3  4  5  6  7  8  9 10]\n",
      "LB 0.0 UB 0.2 Slice Area 0.16016\n",
      "LB 0.2 UB 0.4 Slice Area 0.08271999999999999\n",
      "LB 0.4000000000000001 UB 0.6000000000000001 Slice Area 0.01551999999999999\n",
      "LB 0.6000000000000001 UB 0.8 Slice Area -0.026079999999999992\n",
      "LB 0.8 UB 1.0 Slice Area -0.01903999999999999\n",
      "LB 1.0000000000000002 UB 1.2000000000000002 Slice Area 0.06736000000000013\n",
      "LB 1.2000000000000002 UB 1.4000000000000001 Slice Area 0.2715200000000002\n",
      "LB 1.4000000000000001 UB 1.6 Slice Area 0.6395200000000003\n",
      "LB 1.6 UB 1.8 Slice Area 1.2251200000000002\n",
      "LB 1.8 UB 2.0 Slice Area 2.08976\n",
      "Steps [1 2 3 4 5 6 7 8 9]\n",
      "Integrals = 4.50656 4.506560000000001\n"
     ]
    }
   ],
   "source": [
    "# Integrating a function\n",
    "#   with the Extended Trapezoid Rule\n",
    "\n",
    "N = 10  # Number of slices\n",
    "a = 0.0 # Lower bound\n",
    "b = 2.0 # Upper bound\n",
    "w = (b-a)/N # Step size\n",
    "print(\"Step size \",w)\n",
    "\n",
    "\n",
    "\n",
    "# Calculate numerical integral\n",
    "#   using the trapezoid rule for each slice\n",
    "x = np.arange(1, N+1)\n",
    "print(\"Steps\",x)\n",
    "t = 0 \n",
    "for k in x:\n",
    "    t+= 0.5*w*(f(a+k*w-w)+f(a+k*w))\n",
    "    print(\"LB\",a+k*w-w,\"UB\",a+k*w, \"Slice Area\",0.5*w*(f(a+k*w-w)+f(a+k*w)) )\n",
    "\n",
    "# Calculate numerical integral\n",
    "#   using the extended trapezoid rule \n",
    "x = np.arange(1, N)\n",
    "print(\"Steps\",x)  \n",
    "s = 0.5*f(a) + 0.5*f(b)\n",
    "for k in x:\n",
    "    s+= f(a+k*w)\n",
    "s = w*s\n",
    "\n",
    "print(\"Integrals =\",s,t)"
   ]
  },
  {
   "cell_type": "code",
   "execution_count": null,
   "id": "0bcc3da0",
   "metadata": {},
   "outputs": [],
   "source": []
  },
  {
   "cell_type": "markdown",
   "id": "00eb2d10",
   "metadata": {},
   "source": [
    "<font color=magenta>----Begin Exercise 11-1----</font> \n",
    "\n",
    "* Repeat the steps we did above for other algorithms\n",
    "    * Define a function which calculates the integral of a function using the extended trapezoid rule. The inputs to the function should be N, a, and b.\n",
    "    * Plot the value of the integral as a function of N (for all N from 10 to 1000 in steps of 5)\n",
    "    * Make a plot comparing all 4 methods\n",
    "* For the midpoint rule and trapzoid rule, calculate the percent error for each value of N (create a percent error array). \n",
    "    * $\\text{percent error} = 100\\% \\times\\frac{(\\text{Calculated value} - \\text{true value})}{\\text{true value}}$\n",
    "* Make a plot comparing the percent error for the midpoint rule and trapzoid rule"
   ]
  },
  {
   "cell_type": "code",
   "execution_count": null,
   "id": "68811d73",
   "metadata": {},
   "outputs": [],
   "source": []
  },
  {
   "cell_type": "markdown",
   "id": "70e2ddb7",
   "metadata": {},
   "source": [
    "_<font color=magenta>----End Exercise----</font> _"
   ]
  },
  {
   "cell_type": "code",
   "execution_count": null,
   "id": "283cc7c8",
   "metadata": {},
   "outputs": [],
   "source": []
  }
 ],
 "metadata": {
  "kernelspec": {
   "display_name": "Python 3",
   "language": "python",
   "name": "python3"
  },
  "language_info": {
   "codemirror_mode": {
    "name": "ipython",
    "version": 3
   },
   "file_extension": ".py",
   "mimetype": "text/x-python",
   "name": "python",
   "nbconvert_exporter": "python",
   "pygments_lexer": "ipython3",
   "version": "3.8.8"
  }
 },
 "nbformat": 4,
 "nbformat_minor": 5
}
