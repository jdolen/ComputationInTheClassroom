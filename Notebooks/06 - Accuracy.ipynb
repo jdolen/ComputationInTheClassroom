{
 "cells": [
  {
   "cell_type": "markdown",
   "metadata": {},
   "source": [
    "# PHYS 308 - Notebook 06 - Accuracy \n",
    "\n",
    "Interactive learning notebook developed by J. Dolen for PHYS 308 at Purdue University Northwest\n",
    "\n",
    "Reference: Mark Newman \"Computational Physics\" Chapter 4 "
   ]
  },
  {
   "cell_type": "markdown",
   "metadata": {},
   "source": [
    "## Allowable ranges in python"
   ]
  },
  {
   "cell_type": "code",
   "execution_count": 3,
   "metadata": {},
   "outputs": [
    {
     "name": "stdout",
     "output_type": "stream",
     "text": [
      "<class 'int'>\n",
      "402387260077093773543702433923003985719374864210714632543799910429938512398629020592044208486969404800479988610197196058631666872994808558901323829669944590997424504087073759918823627727188732519779505950995276120874975462497043601418278094646496291056393887437886487337119181045825783647849977012476632889835955735432513185323958463075557409114262417474349347553428646576611667797396668820291207379143853719588249808126867838374559731746136085379534524221586593201928090878297308431392844403281231558611036976801357304216168747609675871348312025478589320767169132448426236131412508780208000261683151027341827977704784635868170164365024153691398281264810213092761244896359928705114964975419909342221566832572080821333186116811553615836546984046708975602900950537616475847728421889679646244945160765353408198901385442487984959953319101723355556602139450399736280750137837615307127761926849034352625200015888535147331611702103968175921510907788019393178114194545257223865541461062892187960223838971476088506276862967146674697562911234082439208160153780889893964518263243671616762179168909779911903754031274622289988005195444414282012187361745992642956581746628302955570299024324153181617210465832036786906117260158783520751516284225540265170483304226143974286933061690897968482590125458327168226458066526769958652682272807075781391858178889652208164348344825993266043367660176999612831860788386150279465955131156552036093988180612138558600301435694527224206344631797460594682573103790084024432438465657245014402821885252470935190620929023136493273497565513958720559654228749774011413346962715422845862377387538230483865688976461927383814900140767310446640259899490222221765904339901886018566526485061799702356193897017860040811889729918311021171229845901641921068884387121855646124960798722908519296819372388642614839657382291123125024186649353143970137428531926649875337218940694281434118520158014123344828015051399694290153483077644569099073152433278288269864602789864321139083506217095002597389863554277196742822248757586765752344220207573630569498825087968928162753848863396909959826280956121450994871701244516461260379029309120889086942028510640182154399457156805941872748998094254742173582401063677404595741785160829230135358081840096996372524230560855903700624271243416909004153690105933983835777939410970027753472000000000000000000000000000000000000000000000000000000000000000000000000000000000000000000000000000000000000000000000000000000000000000000000000000000000000000000000000000000000000000000000000000000000000000000000000000000000000000000000000000000\n"
     ]
    }
   ],
   "source": [
    "# compute factorial using int\n",
    "factorial = 1\n",
    "n = 1000\n",
    "for k in range (1,n):\n",
    "    factorial*=k\n",
    "print(type(factorial))\n",
    "print(factorial)"
   ]
  },
  {
   "cell_type": "code",
   "execution_count": 7,
   "metadata": {},
   "outputs": [
    {
     "name": "stdout",
     "output_type": "stream",
     "text": [
      "<class 'float'>\n",
      "inf\n"
     ]
    }
   ],
   "source": [
    "# compute factorial using float\n",
    "factorial = 1.0\n",
    "n = 200\n",
    "for k in range (1,n):\n",
    "    factorial*=k\n",
    "print(type(factorial))\n",
    "print(factorial)"
   ]
  },
  {
   "cell_type": "markdown",
   "metadata": {},
   "source": [
    "### Overflow and underflow\n",
    "\n",
    "#### Max values\n",
    "\n",
    "In python 3:\n",
    "\n",
    "* int have no maximum (limited only by the size of your computers memory) \n",
    "    * They have arbitrary precision\n",
    "    * In some cases displaying a very large int will take a long time\n",
    "* float are limited to $\\sim 10^{308}$\n",
    "\n",
    "\n",
    "Note: in python 2 there was a limit for int, and there was a seperate type called long\n",
    "\n",
    "\n",
    "#### Overflow \n",
    "* Definition: when you execute a statment which produces a float above the largest possible floating point number\n",
    "* When you overflow, python does **not** return an error message (it may return a warning). \n",
    "    * Instead, python sets the variable equal to infinity (inf)\n",
    "        * Check for this otherwise your program could return wrong answers\n",
    "    \n",
    "#### Min values (smallest magnitdue)\n",
    "In python 3:\n",
    "* In theory, floats are limted to $\\sim 10^{-308}$ \n",
    "* In practice, your system may allow smaller numbers but with lost precision (\"gradual underflow)\n",
    "* Example: On my system floats are limited to $\\sim 10^{-324}$ \n",
    "\n",
    "\n",
    "#### Underflow \n",
    "* Definition: when you execute a statment which produces a float with magnitude below the smallest possible floating point number\n",
    "* When you underflow, python does **not** return an error message (it may return a warning). \n",
    "    * Instead, python sets the variable equal to 0.0\n",
    "        * Check for this otherwise your program could return wrong answers\n",
    "   "
   ]
  },
  {
   "cell_type": "code",
   "execution_count": null,
   "metadata": {
    "collapsed": true
   },
   "outputs": [],
   "source": []
  },
  {
   "cell_type": "code",
   "execution_count": 1,
   "metadata": {},
   "outputs": [
    {
     "name": "stdout",
     "output_type": "stream",
     "text": [
      "inf\n",
      "inf\n"
     ]
    }
   ],
   "source": [
    "# float infinity behavior\n",
    "infinity = float(\"inf\")\n",
    "print(infinity)\n",
    "print(infinity / 10000)"
   ]
  },
  {
   "cell_type": "code",
   "execution_count": 18,
   "metadata": {},
   "outputs": [
    {
     "name": "stdout",
     "output_type": "stream",
     "text": [
      "<class 'float'>\n",
      "x = 1.7e+308\n",
      "y = inf\n",
      "w = 1e-323\n",
      "z = 0.0\n"
     ]
    }
   ],
   "source": [
    "## Check the previous statements\n",
    "x = 1.7e308\n",
    "print(type(x))\n",
    "y = x * 10\n",
    "w = 1.0e-323  #2.5e-323\n",
    "z = w * 0.1\n",
    "\n",
    "print(\"x =\",x)\n",
    "print(\"y =\",y)\n",
    "print(\"w =\",w)\n",
    "print(\"z =\",z)\n"
   ]
  },
  {
   "cell_type": "code",
   "execution_count": 21,
   "metadata": {},
   "outputs": [
    {
     "name": "stdout",
     "output_type": "stream",
     "text": [
      "a = 1.1234567891234568e-307\n",
      "b = 1.1234567891234565e-308\n",
      "c = 1.12345678912346e-309\n",
      "d = 1.12345678912344e-310\n",
      "e = 1.1234567891235e-311\n",
      "f = 1.123456789124e-312\n",
      "g = 1.1234567891e-313\n",
      "h = 1.123456789e-314\n"
     ]
    }
   ],
   "source": [
    "a = 1.123456789123456789e-307  \n",
    "b = 1.123456789123456789e-308 \n",
    "c = 1.123456789123456789e-309 \n",
    "d = 1.123456789123456789e-310 \n",
    "e = 1.123456789123456789e-311 \n",
    "f = 1.123456789123456789e-312 \n",
    "g = 1.123456789123456789e-313 \n",
    "h = 1.123456789123456789e-314 \n",
    "print(\"a =\",a)\n",
    "print(\"b =\",b)\n",
    "print(\"c =\",c)\n",
    "print(\"d =\",d)\n",
    "print(\"e =\",e)\n",
    "print(\"f =\",f)\n",
    "print(\"g =\",g)\n",
    "print(\"h =\",h)"
   ]
  },
  {
   "cell_type": "markdown",
   "metadata": {},
   "source": [
    "Python has a module sys which allows you to check computer specific parameters:\n",
    "https://docs.python.org/3.6/library/sys.html"
   ]
  },
  {
   "cell_type": "code",
   "execution_count": 12,
   "metadata": {},
   "outputs": [
    {
     "name": "stdout",
     "output_type": "stream",
     "text": [
      "my operating system is darwin\n"
     ]
    }
   ],
   "source": [
    "import sys\n",
    "print('my operating system is',sys.platform)"
   ]
  },
  {
   "cell_type": "code",
   "execution_count": 13,
   "metadata": {},
   "outputs": [
    {
     "data": {
      "text/plain": [
       "sys.float_info(max=1.7976931348623157e+308, max_exp=1024, max_10_exp=308, min=2.2250738585072014e-308, min_exp=-1021, min_10_exp=-307, dig=15, mant_dig=53, epsilon=2.220446049250313e-16, radix=2, rounds=1)"
      ]
     },
     "execution_count": 13,
     "metadata": {},
     "output_type": "execute_result"
    }
   ],
   "source": [
    "sys.float_info"
   ]
  },
  {
   "cell_type": "code",
   "execution_count": 14,
   "metadata": {},
   "outputs": [
    {
     "data": {
      "text/plain": [
       "1.7976931348623157e+308"
      ]
     },
     "execution_count": 14,
     "metadata": {},
     "output_type": "execute_result"
    }
   ],
   "source": [
    "sys.float_info.max"
   ]
  },
  {
   "cell_type": "code",
   "execution_count": 15,
   "metadata": {},
   "outputs": [
    {
     "data": {
      "text/plain": [
       "2.2250738585072014e-308"
      ]
     },
     "execution_count": 15,
     "metadata": {},
     "output_type": "execute_result"
    }
   ],
   "source": [
    "sys.float_info.min"
   ]
  },
  {
   "cell_type": "markdown",
   "metadata": {},
   "source": [
    "Lets experiment with another function provided by numpy:  nextafter\n",
    "https://docs.scipy.org/doc/numpy-1.13.0/reference/generated/numpy.nextafter.html\n",
    "\n",
    "nextafter returns the next discrete representable floating point number after some input value\n",
    "\n",
    "syntax:  nextafter( x1, x2)  \n",
    "\n",
    "returns the next representable values of x1 in the direction of x2.\n",
    "\n",
    "(x2 tells it the direction up or down )"
   ]
  },
  {
   "cell_type": "code",
   "execution_count": 22,
   "metadata": {},
   "outputs": [
    {
     "name": "stdout",
     "output_type": "stream",
     "text": [
      "5e-324\n"
     ]
    }
   ],
   "source": [
    "import numpy as np\n",
    "print( np.nextafter(0, 1) )"
   ]
  },
  {
   "cell_type": "markdown",
   "metadata": {},
   "source": [
    "According to nextafter the smallest number that is bigger than 0 is\n",
    "\n",
    "5e-324\n",
    "\n",
    "But sys.float_info.min reports\n",
    "\n",
    "2.2250738585072014e-308\n",
    "\n",
    "Explanation: I told you earlier that if there is underflow (numbers less than the smallest mangitude number allowed in pyhon) than python sets the variable to be equal to 0.0.\n",
    "\n",
    "Really, python sets the variable to be equal to a \"denormal number\". This is a number which is smaller than the smallest number but with less precision (significant digits are dropped).\n",
    "\n",
    "This is called \"gradual underflow\". Instead of having a hard cutoff where you set the variable to 0.0, you first set the variable with the proper float but with less precision than a typical float.\n",
    "\n",
    "Recall from above that digits were lost:"
   ]
  },
  {
   "cell_type": "code",
   "execution_count": 279,
   "metadata": {},
   "outputs": [
    {
     "name": "stdout",
     "output_type": "stream",
     "text": [
      "w = 2.224242424242424e-308\n",
      "z = 2.22424243e-316\n"
     ]
    }
   ],
   "source": [
    "w = 2.2242424242424242424e-308 # w =2.5e-323\n",
    "z = w * 0.00000001\n",
    "print(\"w =\",w)\n",
    "print(\"z =\",z)"
   ]
  },
  {
   "cell_type": "code",
   "execution_count": 280,
   "metadata": {},
   "outputs": [
    {
     "name": "stdout",
     "output_type": "stream",
     "text": [
      "0.0005\n",
      "2.5e-07\n",
      "1.25e-10\n",
      "6.250000000000001e-14\n",
      "3.125000000000001e-17\n",
      "1.5625000000000004e-20\n",
      "7.812500000000002e-24\n",
      "3.906250000000001e-27\n",
      "1.9531250000000008e-30\n",
      "9.765625000000004e-34\n",
      "4.882812500000002e-37\n",
      "2.441406250000001e-40\n",
      "1.2207031250000005e-43\n",
      "6.103515625000003e-47\n",
      "3.051757812500002e-50\n",
      "1.525878906250001e-53\n",
      "7.629394531250005e-57\n",
      "3.8146972656250023e-60\n",
      "1.9073486328125013e-63\n",
      "9.536743164062506e-67\n",
      "4.7683715820312535e-70\n",
      "2.3841857910156268e-73\n",
      "1.1920928955078134e-76\n",
      "5.960464477539067e-80\n",
      "2.9802322387695333e-83\n",
      "1.4901161193847667e-86\n",
      "7.450580596923834e-90\n",
      "3.725290298461917e-93\n",
      "1.8626451492309587e-96\n",
      "9.313225746154793e-100\n",
      "4.656612873077397e-103\n",
      "2.3283064365386985e-106\n",
      "1.1641532182693493e-109\n",
      "5.820766091346747e-113\n",
      "2.9103830456733736e-116\n",
      "1.455191522836687e-119\n",
      "7.275957614183435e-123\n",
      "3.637978807091717e-126\n",
      "1.8189894035458585e-129\n",
      "9.094947017729293e-133\n",
      "4.547473508864647e-136\n",
      "2.2737367544323235e-139\n",
      "1.1368683772161617e-142\n",
      "5.6843418860808085e-146\n",
      "2.8421709430404043e-149\n",
      "1.4210854715202022e-152\n",
      "7.105427357601011e-156\n",
      "3.552713678800506e-159\n",
      "1.776356839400253e-162\n",
      "8.881784197001264e-166\n",
      "4.440892098500632e-169\n",
      "2.220446049250316e-172\n",
      "1.1102230246251581e-175\n",
      "5.551115123125791e-179\n",
      "2.7755575615628954e-182\n",
      "1.3877787807814477e-185\n",
      "6.938893903907239e-189\n",
      "3.4694469519536192e-192\n",
      "1.7347234759768097e-195\n",
      "8.673617379884049e-199\n",
      "4.336808689942024e-202\n",
      "2.168404344971012e-205\n",
      "1.0842021724855062e-208\n",
      "5.421010862427531e-212\n",
      "2.7105054312137655e-215\n",
      "1.3552527156068827e-218\n",
      "6.776263578034413e-222\n",
      "3.388131789017207e-225\n",
      "1.6940658945086035e-228\n",
      "8.470329472543018e-232\n",
      "4.235164736271509e-235\n",
      "2.1175823681357547e-238\n",
      "1.0587911840678773e-241\n",
      "5.293955920339386e-245\n",
      "2.6469779601696932e-248\n",
      "1.3234889800848466e-251\n",
      "6.617444900424234e-255\n",
      "3.308722450212117e-258\n",
      "1.6543612251060585e-261\n",
      "8.271806125530293e-265\n",
      "4.1359030627651464e-268\n",
      "2.0679515313825733e-271\n",
      "1.0339757656912867e-274\n",
      "5.1698788284564333e-278\n",
      "2.5849394142282167e-281\n",
      "1.2924697071141084e-284\n",
      "6.462348535570542e-288\n",
      "3.231174267785271e-291\n",
      "1.6155871338926353e-294\n",
      "8.077935669463177e-298\n",
      "4.038967834731588e-301\n",
      "2.019483917365794e-304\n",
      "1.0097419586828971e-307\n",
      "5.0487097934146e-311\n",
      "2.5243548965e-314\n",
      "1.2621776e-317\n",
      "6.31e-321\n",
      "5e-324\n",
      "0.0\n",
      "0.0\n",
      "0.0\n"
     ]
    }
   ],
   "source": [
    "### check min\n",
    "P = 1 \n",
    "for i in range(101):\n",
    "    P*=5.e-4\n",
    "    print(P)"
   ]
  },
  {
   "cell_type": "code",
   "execution_count": 281,
   "metadata": {},
   "outputs": [
    {
     "name": "stdout",
     "output_type": "stream",
     "text": [
      "2.71828182846\n",
      "72004899337.4\n",
      "1.50609731459e+35\n",
      "2.48752492832e+73\n",
      "3.24418244604e+125\n",
      "3.34092340766e+191\n",
      "2.71675946966e+271\n",
      "inf\n",
      "inf\n",
      "inf\n"
     ]
    },
    {
     "name": "stderr",
     "output_type": "stream",
     "text": [
      "/Applications/anaconda/lib/python3.6/site-packages/ipykernel_launcher.py:4: RuntimeWarning: overflow encountered in exp\n",
      "  after removing the cwd from sys.path.\n"
     ]
    }
   ],
   "source": [
    "### check max\n",
    "P = 1 \n",
    "for i in range(1,40,4):\n",
    "    print(np.exp(i**2))"
   ]
  },
  {
   "cell_type": "markdown",
   "metadata": {},
   "source": [
    "### Warning:\n",
    "Logical errors can happen when you are dealing with overflow and underflow situations\n"
   ]
  },
  {
   "cell_type": "code",
   "execution_count": 23,
   "metadata": {},
   "outputs": [
    {
     "data": {
      "text/plain": [
       "True"
      ]
     },
     "execution_count": 23,
     "metadata": {},
     "output_type": "execute_result"
    }
   ],
   "source": [
    "a,b = 1.0e500, 7.0e500\n",
    "a==b"
   ]
  },
  {
   "cell_type": "code",
   "execution_count": 24,
   "metadata": {},
   "outputs": [
    {
     "name": "stdout",
     "output_type": "stream",
     "text": [
      "inf inf\n"
     ]
    }
   ],
   "source": [
    "print(a,b)"
   ]
  },
  {
   "cell_type": "code",
   "execution_count": 284,
   "metadata": {},
   "outputs": [
    {
     "data": {
      "text/plain": [
       "True"
      ]
     },
     "execution_count": 284,
     "metadata": {},
     "output_type": "execute_result"
    }
   ],
   "source": [
    "math.isinf(a)"
   ]
  },
  {
   "cell_type": "code",
   "execution_count": 285,
   "metadata": {},
   "outputs": [
    {
     "data": {
      "text/plain": [
       "True"
      ]
     },
     "execution_count": 285,
     "metadata": {},
     "output_type": "execute_result"
    }
   ],
   "source": [
    "np.isinf(b)"
   ]
  },
  {
   "cell_type": "code",
   "execution_count": 286,
   "metadata": {
    "collapsed": true
   },
   "outputs": [],
   "source": [
    "c = a/b"
   ]
  },
  {
   "cell_type": "code",
   "execution_count": 287,
   "metadata": {},
   "outputs": [
    {
     "data": {
      "text/plain": [
       "False"
      ]
     },
     "execution_count": 287,
     "metadata": {},
     "output_type": "execute_result"
    }
   ],
   "source": [
    "c == c"
   ]
  },
  {
   "cell_type": "code",
   "execution_count": 288,
   "metadata": {},
   "outputs": [
    {
     "name": "stdout",
     "output_type": "stream",
     "text": [
      "nan\n"
     ]
    }
   ],
   "source": [
    "print(c)"
   ]
  },
  {
   "cell_type": "markdown",
   "metadata": {},
   "source": [
    "nan = not a number \n",
    "\n",
    "this is not even equal to itself\n",
    "\n",
    "\n"
   ]
  },
  {
   "cell_type": "code",
   "execution_count": 289,
   "metadata": {},
   "outputs": [
    {
     "data": {
      "text/plain": [
       "True"
      ]
     },
     "execution_count": 289,
     "metadata": {},
     "output_type": "execute_result"
    }
   ],
   "source": [
    "math.isnan(c)"
   ]
  },
  {
   "cell_type": "code",
   "execution_count": 290,
   "metadata": {},
   "outputs": [
    {
     "data": {
      "text/plain": [
       "True"
      ]
     },
     "execution_count": 290,
     "metadata": {},
     "output_type": "execute_result"
    }
   ],
   "source": [
    "np.isnan(c)"
   ]
  },
  {
   "cell_type": "markdown",
   "metadata": {},
   "source": [
    "Another interesting sys variable is maxsize which returns the maximum number of entries in a list in python:"
   ]
  },
  {
   "cell_type": "code",
   "execution_count": 25,
   "metadata": {},
   "outputs": [
    {
     "data": {
      "text/plain": [
       "9223372036854775807"
      ]
     },
     "execution_count": 25,
     "metadata": {},
     "output_type": "execute_result"
    }
   ],
   "source": [
    "sys.maxsize"
   ]
  },
  {
   "cell_type": "markdown",
   "metadata": {},
   "source": [
    "This number is based on your computer:"
   ]
  },
  {
   "cell_type": "code",
   "execution_count": 26,
   "metadata": {},
   "outputs": [
    {
     "name": "stdout",
     "output_type": "stream",
     "text": [
      "2147483647\n",
      "9223372036854775807\n"
     ]
    }
   ],
   "source": [
    "print(2**31 - 1) # 32-bit \n",
    "print(2**63 - 1) # 64-bit"
   ]
  },
  {
   "cell_type": "code",
   "execution_count": null,
   "metadata": {
    "collapsed": true
   },
   "outputs": [],
   "source": []
  },
  {
   "cell_type": "code",
   "execution_count": null,
   "metadata": {
    "collapsed": true
   },
   "outputs": [],
   "source": []
  },
  {
   "cell_type": "markdown",
   "metadata": {},
   "source": [
    "## Python float precision and numerical error\n",
    "\n",
    "recall earlier example:"
   ]
  },
  {
   "cell_type": "code",
   "execution_count": 293,
   "metadata": {},
   "outputs": [
    {
     "data": {
      "text/plain": [
       "1.0"
      ]
     },
     "execution_count": 293,
     "metadata": {},
     "output_type": "execute_result"
    }
   ],
   "source": [
    "(1/50.0)*50.0"
   ]
  },
  {
   "cell_type": "code",
   "execution_count": 294,
   "metadata": {},
   "outputs": [
    {
     "data": {
      "text/plain": [
       "0.9999999999999999"
      ]
     },
     "execution_count": 294,
     "metadata": {},
     "output_type": "execute_result"
    }
   ],
   "source": [
    "(1/49.0)*49.0"
   ]
  },
  {
   "cell_type": "markdown",
   "metadata": {},
   "source": [
    "There must be some rounding error.\n",
    "\n",
    "Consider the variable pi:\n",
    "\n",
    "* pi_actual  = 3.1415926535897932384626&nbsp;&nbsp;&nbsp;# first 23 digits of pi\n",
    "* pi_python  = 3.141592653589793&nbsp;&nbsp;&nbsp;&nbsp;&nbsp;&nbsp;&nbsp;&nbsp;&nbsp;&nbsp;&nbsp;&nbsp;&nbsp;&nbsp;&nbsp;&nbsp;# from math.pi\n",
    "* difference = 0.0000000000000002384626&nbsp;&nbsp;# rounding error\n",
    "\n",
    "\n",
    "Rounding doesn't only occur with irrational numbers in python. Any number whose true value has more than 16 significant figures will be rounded.\n",
    "\n",
    "One must also consider the binary representation\n"
   ]
  },
  {
   "cell_type": "code",
   "execution_count": 27,
   "metadata": {},
   "outputs": [
    {
     "data": {
      "text/plain": [
       "0.30000000000000004"
      ]
     },
     "execution_count": 27,
     "metadata": {},
     "output_type": "execute_result"
    }
   ],
   "source": [
    "0.1+0.1+0.1"
   ]
  },
  {
   "attachments": {
    "image.png": {
     "image/png": "[encoded data removed]"
    }
   },
   "cell_type": "markdown",
   "metadata": {},
   "source": [
    "What happened? \n",
    "* If the computer used base 10, no rounding would be needed.\n",
    "* But in base 2 (binary), 0.1 represented as a binary fraction contains infinitely repeating numbers 0.0001100110011001100110011001100110011001100110011...\n",
    "* So just like the decimal fraction 1/3 is infinitely repeating in base 10, 1/10 is infinitely repeating in base 2\n",
    "\n",
    "\"Floating point\" - the decimal is moved by the number of places indicated by the exponent ( variant of scientific notation)\n",
    "\n",
    "\n",
    "![image.png](attachment:image.png)\n",
    "\n",
    "$3.14159 = 0.7853975 * 2^2$\n"
   ]
  },
  {
   "cell_type": "markdown",
   "metadata": {},
   "source": [
    "### Comparing floats\n",
    "\n",
    "As stated before, never test equality of two floats\n"
   ]
  },
  {
   "cell_type": "code",
   "execution_count": 296,
   "metadata": {},
   "outputs": [
    {
     "data": {
      "text/plain": [
       "0.010000000000000002"
      ]
     },
     "execution_count": 296,
     "metadata": {},
     "output_type": "execute_result"
    }
   ],
   "source": [
    "0.1**2"
   ]
  },
  {
   "cell_type": "code",
   "execution_count": 297,
   "metadata": {},
   "outputs": [
    {
     "data": {
      "text/plain": [
       "False"
      ]
     },
     "execution_count": 297,
     "metadata": {},
     "output_type": "execute_result"
    }
   ],
   "source": [
    "0.1**2==0.01"
   ]
  },
  {
   "cell_type": "code",
   "execution_count": 298,
   "metadata": {},
   "outputs": [
    {
     "name": "stdout",
     "output_type": "stream",
     "text": [
      "3.3000000000000003\n",
      "not equal\n"
     ]
    }
   ],
   "source": [
    "x = 1.1+2.2\n",
    "print(x)\n",
    "if x==3.3:\n",
    "    print(\"equal\")\n",
    "else:\n",
    "    print(\"not equal\")"
   ]
  },
  {
   "cell_type": "markdown",
   "metadata": {},
   "source": [
    "Instead, require two floats to have difference less than some small number to test equality:"
   ]
  },
  {
   "cell_type": "code",
   "execution_count": 30,
   "metadata": {},
   "outputs": [
    {
     "name": "stdout",
     "output_type": "stream",
     "text": [
      "equal\n"
     ]
    }
   ],
   "source": [
    "x = 1.1+2.2\n",
    "epsilon = 1e-12\n",
    "if abs(x-3.3)<epsilon:\n",
    "    print(\"equal\")"
   ]
  },
  {
   "cell_type": "code",
   "execution_count": 31,
   "metadata": {},
   "outputs": [
    {
     "name": "stdout",
     "output_type": "stream",
     "text": [
      "(3715469692580659, 1125899906842624)\n",
      "not equal\n"
     ]
    }
   ],
   "source": [
    "x = 3.3\n",
    "# float.as_integer_ratio()\n",
    "#  Returns a pair of integers whose ratio is exactly \n",
    "#  equal to the original float and with a positive denominator.\n",
    "print(x.as_integer_ratio()) # \n",
    "if x==x.as_integer_ratio():\n",
    "    print(\"equal\")\n",
    "else:\n",
    "    print(\"not equal\")"
   ]
  },
  {
   "cell_type": "code",
   "execution_count": 32,
   "metadata": {},
   "outputs": [
    {
     "data": {
      "text/plain": [
       "3.3"
      ]
     },
     "execution_count": 32,
     "metadata": {},
     "output_type": "execute_result"
    }
   ],
   "source": [
    "3715469692580659/1125899906842624"
   ]
  },
  {
   "cell_type": "markdown",
   "metadata": {},
   "source": [
    "One can also utilize some numpy functions\n",
    "* test two floats https://docs.scipy.org/doc/numpy-dev/reference/generated/numpy.isclose.html\n",
    "* test two arrays element-wise\n",
    "https://docs.scipy.org/doc/numpy/reference/generated/numpy.allclose.html"
   ]
  },
  {
   "cell_type": "code",
   "execution_count": 301,
   "metadata": {},
   "outputs": [
    {
     "data": {
      "text/plain": [
       "True"
      ]
     },
     "execution_count": 301,
     "metadata": {},
     "output_type": "execute_result"
    }
   ],
   "source": [
    "np.isclose(0.1**2,0.01)"
   ]
  },
  {
   "cell_type": "code",
   "execution_count": 302,
   "metadata": {},
   "outputs": [
    {
     "data": {
      "text/plain": [
       "True"
      ]
     },
     "execution_count": 302,
     "metadata": {},
     "output_type": "execute_result"
    }
   ],
   "source": [
    "np.isclose(1.1+2.2,3.3)"
   ]
  },
  {
   "cell_type": "code",
   "execution_count": 303,
   "metadata": {},
   "outputs": [
    {
     "name": "stdout",
     "output_type": "stream",
     "text": [
      "[[ 3.141592 -0.1     ]\n",
      " [-0.1       0.1     ]]\n",
      "[[ 3.14159265 -0.1       ]\n",
      " [-0.1         0.1       ]]\n",
      "True\n"
     ]
    }
   ],
   "source": [
    "x = np.array([[3.141592, -0.1], [-0.1, 0.1]])\n",
    "y = np.array([[math.pi, -0.1], [-0.1, 0.1]])\n",
    "print(x)\n",
    "print(y)\n",
    "print(np.allclose(x,y))"
   ]
  },
  {
   "cell_type": "markdown",
   "metadata": {},
   "source": [
    "Also note that floating point addition is not associative or distributive"
   ]
  },
  {
   "cell_type": "code",
   "execution_count": 304,
   "metadata": {},
   "outputs": [
    {
     "name": "stdout",
     "output_type": "stream",
     "text": [
      "100000000000026.17\n",
      "100000000000026.19\n"
     ]
    }
   ],
   "source": [
    "a,b,c = 1e14, 25.44, 0.74\n",
    "print( (a+b)+c )\n",
    "print( a+(b+c) )"
   ]
  },
  {
   "cell_type": "code",
   "execution_count": 305,
   "metadata": {},
   "outputs": [
    {
     "name": "stdout",
     "output_type": "stream",
     "text": [
      "30.0\n",
      "30.000000000000004\n"
     ]
    }
   ],
   "source": [
    "a,b,c, = 100, 0.1, 0.2\n",
    "print( a*b + a*c )\n",
    "print( a*(b+c)   )"
   ]
  },
  {
   "cell_type": "markdown",
   "metadata": {},
   "source": [
    "The upper bound of the relative error due to rounding is called the machine epsilon"
   ]
  },
  {
   "cell_type": "code",
   "execution_count": 306,
   "metadata": {},
   "outputs": [
    {
     "name": "stdout",
     "output_type": "stream",
     "text": [
      "2.220446049250313e-16\n"
     ]
    }
   ],
   "source": [
    "eps = sys.float_info.epsilon\n",
    "print(eps)"
   ]
  },
  {
   "cell_type": "code",
   "execution_count": 307,
   "metadata": {},
   "outputs": [
    {
     "data": {
      "text/plain": [
       "True"
      ]
     },
     "execution_count": 307,
     "metadata": {},
     "output_type": "execute_result"
    }
   ],
   "source": [
    "x = 3.0\n",
    "x+eps==x"
   ]
  },
  {
   "cell_type": "code",
   "execution_count": 308,
   "metadata": {},
   "outputs": [
    {
     "data": {
      "text/plain": [
       "False"
      ]
     },
     "execution_count": 308,
     "metadata": {},
     "output_type": "execute_result"
    }
   ],
   "source": [
    "x = 3.0\n",
    "x+2*eps==x"
   ]
  },
  {
   "cell_type": "markdown",
   "metadata": {},
   "source": [
    "## Loss of signficance\n",
    "\n",
    "Suppose we had a machine with only 5 digits of precision \n",
    "\n",
    "Define two variables x and y:\n",
    "```\n",
    "x = 1.2345432 \n",
    "y = 1.23451\n",
    "```\n",
    "With better precision subtraction would yield:\n",
    "```\n",
    "x - y = 0.0000332\n",
    "```\n",
    "But after rounding x and y become:\n",
    "```\n",
    "x = 1.23454 \n",
    "y = 1.23451\n",
    "```\n",
    "And so\n",
    "```\n",
    "x-y = 0.0003\n",
    "```\n",
    "\n",
    "Initially we had two numbers, one with 8 signficant figures (sigfigs) and one with 6, and now we have a number with only 1 sigfig\n",
    "\n",
    "Also note that the correct answer 3.32e-5 is within the precision of our machine.\n",
    "\n",
    "**\"Catastrophic cancellation\"** - the loss of significance when subtracting two numbers which have only a small difference\n",
    "\n",
    "This can also occur when a small number is added or subtracted from a much larger one:\n",
    "```\n",
    "12345.6 + 0.123456 = 12345.72345 (exact)\n",
    "12345.6 + 0.123456 = 12345.7     (6 digits of precision)\n",
    "```\n",
    "In python you have 15 digits of precision so this is a smaller effect, but it can still cause problems when repeatedly adding numbers which can't be represented exactly:"
   ]
  },
  {
   "cell_type": "code",
   "execution_count": 33,
   "metadata": {},
   "outputs": [
    {
     "name": "stdout",
     "output_type": "stream",
     "text": [
      "99999998.74541782\n",
      "1.2545821815729141\n"
     ]
    }
   ],
   "source": [
    "# Caution: This takes a while to run\n",
    "\n",
    "a=0.0\n",
    "for i in range(1000000000):  #1e9\n",
    "    a+=0.1\n",
    "print(a)  #We expect 1e8\n",
    "print(100000000-a) #Difference"
   ]
  },
  {
   "cell_type": "markdown",
   "metadata": {},
   "source": [
    "another example\n",
    "\n",
    "$x=1$\n",
    "\n",
    "$y=1+10^{-14}\\sqrt{2}$\n",
    "\n",
    "so therefore\n",
    "\n",
    "$10^{14} (y-x) = \\sqrt{2}$\n",
    "\n",
    "in code:\n"
   ]
  },
  {
   "cell_type": "code",
   "execution_count": 310,
   "metadata": {},
   "outputs": [
    {
     "name": "stdout",
     "output_type": "stream",
     "text": [
      "1.4142135623730951\n",
      "1.4210854715202004\n",
      "-0.006871909147105226\n"
     ]
    }
   ],
   "source": [
    "from math import sqrt\n",
    "x = 1.0\n",
    "y = 1.0 + (1e-14)*sqrt(2)\n",
    "print( sqrt(2) )\n",
    "print( (1e14)*(y-x) )\n",
    "print( sqrt(2) - (1e14)*(y-x))"
   ]
  },
  {
   "cell_type": "markdown",
   "metadata": {},
   "source": [
    "only the first decimal place is accurate!\n",
    "```\n",
    "\n",
    "\n",
    "```"
   ]
  },
  {
   "cell_type": "markdown",
   "metadata": {},
   "source": [
    "Python does provide one tool which avoids rounding errors when adding small numbers (fsum)\n",
    "\n",
    "consider the built-in sum function and math.fsum\n",
    "\n",
    "https://docs.python.org/3/library/functions.html#sum\n",
    "\n",
    "https://docs.python.org/3/library/math.html#math.fsum"
   ]
  },
  {
   "cell_type": "code",
   "execution_count": 311,
   "metadata": {},
   "outputs": [
    {
     "data": {
      "text/plain": [
       "6"
      ]
     },
     "execution_count": 311,
     "metadata": {},
     "output_type": "execute_result"
    }
   ],
   "source": [
    "sum( (1,2,3) ) # sum requires a iterable list as an arguement"
   ]
  },
  {
   "cell_type": "code",
   "execution_count": 312,
   "metadata": {},
   "outputs": [
    {
     "name": "stdout",
     "output_type": "stream",
     "text": [
      "0.9999999999999999\n",
      "1.0\n"
     ]
    }
   ],
   "source": [
    "print(       sum( (.1, .1, .1, .1, .1, .1, .1, .1, .1, .1) ) )\n",
    "print( math.fsum( (.1, .1, .1, .1, .1, .1, .1, .1, .1, .1) ) )"
   ]
  },
  {
   "cell_type": "code",
   "execution_count": null,
   "metadata": {
    "collapsed": true
   },
   "outputs": [],
   "source": []
  },
  {
   "cell_type": "markdown",
   "metadata": {},
   "source": [
    "## Numpy data types\n",
    "\n",
    "numPy has amy more types than python\n",
    "https://docs.scipy.org/doc/numpy-1.13.0/user/basics.types.html\n",
    "\n",
    "```\n",
    "Data type   Description\n",
    "bool_       Boolean (True or False) stored as a byte\n",
    "int_        Default integer type (same as C long; int64 or int32)\n",
    "intc        Identical to C int (normally int32 or int64)\n",
    "intp        Integer used for indexing (C ssize_t; int32 or int64)\n",
    "int8        Byte (-128 to 127)\n",
    "int16       Integer (-32768 to 32767)\n",
    "int32       Integer (-2147483648 to 2147483647)\n",
    "int64       Integer (-9223372036854775808 to 9223372036854775807)\n",
    "uint8       Unsigned integer (0 to 255)\n",
    "uint16      Unsigned integer (0 to 65535)\n",
    "uint32      Unsigned integer (0 to 4294967295)\n",
    "uint64      Unsigned integer (0 to 18446744073709551615)\n",
    "float_      Shorthand for float64.\n",
    "float1      Half precision float: \n",
    "float32     Single precision float: \n",
    "float64     Double precision float: \n",
    "complex_    Shorthand for complex128.\n",
    "complex64   Complex number, represented by two 32-bit floats \n",
    "complex128  Complex number, represented by two 64-bit floats \n",
    "```"
   ]
  },
  {
   "cell_type": "code",
   "execution_count": 313,
   "metadata": {},
   "outputs": [
    {
     "name": "stdout",
     "output_type": "stream",
     "text": [
      "[0 1 2]\n",
      "[ 0.  1.  2.]\n",
      "[ 0.  1.  2.]\n"
     ]
    }
   ],
   "source": [
    "f = np.arange(3, dtype=np.uint8)\n",
    "print(f)\n",
    "g = np.arange(3, dtype=np.float64)\n",
    "print(g)\n",
    "h = f.astype(float)  # type convert an array\n",
    "print(h)"
   ]
  },
  {
   "cell_type": "code",
   "execution_count": 314,
   "metadata": {},
   "outputs": [
    {
     "data": {
      "text/plain": [
       "dtype('uint8')"
      ]
     },
     "execution_count": 314,
     "metadata": {},
     "output_type": "execute_result"
    }
   ],
   "source": [
    "f.dtype  # check the type of an array"
   ]
  },
  {
   "cell_type": "markdown",
   "metadata": {},
   "source": [
    "python 3 ints are not subject to overflow (full precision as discussed earlier) \n",
    "\n",
    "numpy integer arrays map to underlying C data types and therefore are stored with a fixed number of bytes\n",
    "\n",
    "for example, 16 bit integers have range \n",
    "\n",
    "$-32868$ to $32767$ \n",
    "\n",
    "In binary $-2^{15}$ to $2^{15}-1$"
   ]
  },
  {
   "cell_type": "code",
   "execution_count": 315,
   "metadata": {},
   "outputs": [
    {
     "name": "stdout",
     "output_type": "stream",
     "text": [
      "[0 0 0]\n",
      "[-30000  30000 -25536]\n"
     ]
    }
   ],
   "source": [
    "a = np.zeros(3, dtype=np.int16)\n",
    "print(a)\n",
    "a[0] = -30000\n",
    "a[1] =  30000\n",
    "a[2] =  40000\n",
    "print(a)"
   ]
  },
  {
   "cell_type": "code",
   "execution_count": 316,
   "metadata": {},
   "outputs": [
    {
     "data": {
      "text/plain": [
       "array([-30000,  30000, -25536], dtype=int16)"
      ]
     },
     "execution_count": 316,
     "metadata": {},
     "output_type": "execute_result"
    }
   ],
   "source": [
    "a[:]"
   ]
  },
  {
   "cell_type": "code",
   "execution_count": 317,
   "metadata": {},
   "outputs": [
    {
     "name": "stdout",
     "output_type": "stream",
     "text": [
      "32767\n",
      "-32768\n",
      "18446744073709551615\n",
      "0\n",
      "1.79769313486e+308\n",
      "-1.79769313486e+308\n"
     ]
    }
   ],
   "source": [
    "import numpy as np\n",
    "print( np.iinfo(np.int16).max  )\n",
    "print( np.iinfo(np.int16).min  )\n",
    "print( np.iinfo(np.uint64).max  )\n",
    "print( np.iinfo(np.uint64).min  )\n",
    "print( np.finfo(np.float64).max )\n",
    "print( np.finfo(np.float64).min )"
   ]
  },
  {
   "cell_type": "code",
   "execution_count": 318,
   "metadata": {},
   "outputs": [
    {
     "name": "stdout",
     "output_type": "stream",
     "text": [
      "2.22044604925e-16\n"
     ]
    }
   ],
   "source": [
    "print(numpy.finfo(np.float64).eps)"
   ]
  },
  {
   "cell_type": "code",
   "execution_count": null,
   "metadata": {
    "collapsed": true
   },
   "outputs": [],
   "source": []
  }
 ],
 "metadata": {
  "kernelspec": {
   "display_name": "Python 3",
   "language": "python",
   "name": "python3"
  },
  "language_info": {
   "codemirror_mode": {
    "name": "ipython",
    "version": 3
   },
   "file_extension": ".py",
   "mimetype": "text/x-python",
   "name": "python",
   "nbconvert_exporter": "python",
   "pygments_lexer": "ipython3",
   "version": "3.8.8"
  }
 },
 "nbformat": 4,
 "nbformat_minor": 2
}
