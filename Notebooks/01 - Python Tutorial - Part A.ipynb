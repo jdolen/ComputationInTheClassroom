{
 "cells": [
  {
   "cell_type": "markdown",
   "metadata": {},
   "source": [
    "# Notebook 01 - Python Tutorial - Part A\n",
    "\n",
    "Interactive learning notebook developed by J. Dolen at Purdue University Northwest\n",
    "\n",
    "## Introduction\n",
    "\n",
    "Python is a programming language which is very commonly used in physics, engineering, and in industry. It is an interpreted high-level language which focusses on code readability. There are thousands of external python packages which extend python's capabilities and make it very useful for calculations, plotting, and many other scientific tasks."
   ]
  },
  {
   "cell_type": "markdown",
   "metadata": {},
   "source": [
    "## Basics"
   ]
  },
  {
   "cell_type": "markdown",
   "metadata": {},
   "source": [
    "### Code and comments\n",
    "\n",
    "Anything you write in a Code cell will be interpreted and run when you press \"Shift Enter\"\n",
    "\n",
    "You can also leave comments using the # symbol. Python will not run anything on the same line after the #."
   ]
  },
  {
   "cell_type": "code",
   "execution_count": 12,
   "metadata": {},
   "outputs": [
    {
     "name": "stdout",
     "output_type": "stream",
     "text": [
      "Example 1:\n",
      "x = 3\n",
      "y = 4\n",
      "x+y = 7\n",
      "\n",
      "Example 2:\n",
      "Mass =  53 kg\n",
      "Acceleration =  3.0 m/s^2\n",
      "Force =  159.0 N\n"
     ]
    }
   ],
   "source": [
    "print(\"Example 1:\")\n",
    "x=3\n",
    "# This text is a comment\n",
    "y=4 # This text is also a comment. Use comments to document your code when necessary. \n",
    "z=x+y #In this case the code is self explanatory so no comment is needed\n",
    "print(\"x =\", x)\n",
    "print(\"y =\", y)\n",
    "print(\"x+y =\", z)\n",
    "\n",
    "print(\"\\nExample 2:\")\n",
    "# It is good practice to note utilized units in comments\n",
    "mass = 53 # kg\n",
    "accel = 3.0 # m/s^2\n",
    "force = mass*accel # Calculate force in Newtons using Newton's laws\n",
    "print(\"Mass = \",mass,\"kg\")\n",
    "print(\"Acceleration = \",accel,\"m/s^2\")\n",
    "print(\"Force = \",force,\"N\")"
   ]
  },
  {
   "cell_type": "markdown",
   "metadata": {},
   "source": [
    "### Printing to the screen\n",
    "\n",
    "Python print() Function\n",
    "Built-in function which displays your specified message to the screen\n",
    "\n",
    "Documentation: https://docs.python.org/3/library/functions.html#print"
   ]
  },
  {
   "cell_type": "code",
   "execution_count": 13,
   "metadata": {},
   "outputs": [
    {
     "name": "stdout",
     "output_type": "stream",
     "text": [
      "Hello world\n"
     ]
    }
   ],
   "source": [
    "print(\"Hello world\") # print one string to the screen"
   ]
  },
  {
   "cell_type": "code",
   "execution_count": 14,
   "metadata": {},
   "outputs": [
    {
     "name": "stdout",
     "output_type": "stream",
     "text": [
      "First Second\n"
     ]
    }
   ],
   "source": [
    "print(\"First\",\"Second\") # print two strings to the screen separated by a space"
   ]
  },
  {
   "cell_type": "code",
   "execution_count": 15,
   "metadata": {},
   "outputs": [
    {
     "name": "stdout",
     "output_type": "stream",
     "text": [
      "Cat<--->Dog<--->Horse\n"
     ]
    }
   ],
   "source": [
    "# print three strings sepbarated by a user defined separator using the function parameter sep (\"keyword argument\")\n",
    "print(\"Cat\",\"Dog\",\"Horse\",sep=\"<--->\") "
   ]
  },
  {
   "cell_type": "code",
   "execution_count": 16,
   "metadata": {},
   "outputs": [
    {
     "name": "stdout",
     "output_type": "stream",
     "text": [
      "Cat\n",
      "Dog\n"
     ]
    }
   ],
   "source": [
    "# print on two different lines\n",
    "print(\"Cat\")\n",
    "print(\"Dog\")"
   ]
  },
  {
   "cell_type": "code",
   "execution_count": 17,
   "metadata": {},
   "outputs": [
    {
     "name": "stdout",
     "output_type": "stream",
     "text": [
      "CatDog\n"
     ]
    }
   ],
   "source": [
    "# print on the same line with different statements \n",
    "print(\"Cat\",end=\"\")\n",
    "print(\"Dog\")"
   ]
  },
  {
   "cell_type": "code",
   "execution_count": 18,
   "metadata": {},
   "outputs": [
    {
     "name": "stdout",
     "output_type": "stream",
     "text": [
      "Cat\n",
      "Dog\n"
     ]
    }
   ],
   "source": [
    "# The default value for end is \"\\n\" which is the character for a new line\n",
    "print(\"Cat\",end=\"\\n\")\n",
    "print(\"Dog\")"
   ]
  },
  {
   "cell_type": "code",
   "execution_count": 19,
   "metadata": {},
   "outputs": [
    {
     "name": "stdout",
     "output_type": "stream",
     "text": [
      "Cat\n",
      "Dog\n"
     ]
    }
   ],
   "source": [
    "# You can use this character to force a new line in the middle of one print statement\n",
    "print(\"Cat\\nDog\")"
   ]
  },
  {
   "cell_type": "code",
   "execution_count": 20,
   "metadata": {},
   "outputs": [
    {
     "name": "stdout",
     "output_type": "stream",
     "text": [
      "Cat\n",
      "\tDog\n"
     ]
    }
   ],
   "source": [
    "# You can also use the character \"\\t\" to create a tab\n",
    "print(\"Cat\")\n",
    "print(\"\\tDog\")"
   ]
  },
  {
   "cell_type": "markdown",
   "metadata": {},
   "source": [
    "<font color=magenta>----Begin Exercise 01-1----</font>\n",
    "\n",
    "Write code in the code cell below using the print function and run the code (shift+enter) such that it displays the following:\n",
    "\n",
    "    Physics is fun\n",
    "\n",
    "           So is writing python code\n",
    "       \n",
    "    Physics+Math+Coding\n",
    "\n",
    "           = Fun\n",
    "           \n",
    "Hints: (1) Utilize the tab character (2) Utilize the sep keyword argument to make plus signs between each word (3) think about ways in which you could add an extra line between each printed statement."
   ]
  },
  {
   "cell_type": "code",
   "execution_count": null,
   "metadata": {},
   "outputs": [],
   "source": []
  },
  {
   "cell_type": "markdown",
   "metadata": {},
   "source": [
    "<font color=magenta>----End Exercise----</font>\n"
   ]
  },
  {
   "cell_type": "markdown",
   "metadata": {},
   "source": [
    "We can use the pyton built-in function type() to check what type of object the print function is"
   ]
  },
  {
   "cell_type": "code",
   "execution_count": 21,
   "metadata": {},
   "outputs": [
    {
     "data": {
      "text/plain": [
       "builtin_function_or_method"
      ]
     },
     "execution_count": 21,
     "metadata": {},
     "output_type": "execute_result"
    }
   ],
   "source": [
    "type(print)"
   ]
  },
  {
   "cell_type": "markdown",
   "metadata": {},
   "source": [
    "We can also use the built-in function help() to read the documentation on print()"
   ]
  },
  {
   "cell_type": "code",
   "execution_count": 22,
   "metadata": {},
   "outputs": [
    {
     "name": "stdout",
     "output_type": "stream",
     "text": [
      "Help on built-in function print in module builtins:\n",
      "\n",
      "print(...)\n",
      "    print(value, ..., sep=' ', end='\\n', file=sys.stdout, flush=False)\n",
      "    \n",
      "    Prints the values to a stream, or to sys.stdout by default.\n",
      "    Optional keyword arguments:\n",
      "    file:  a file-like object (stream); defaults to the current sys.stdout.\n",
      "    sep:   string inserted between values, default a space.\n",
      "    end:   string appended after the last value, default a newline.\n",
      "    flush: whether to forcibly flush the stream.\n",
      "\n"
     ]
    }
   ],
   "source": [
    "help(print)"
   ]
  },
  {
   "cell_type": "markdown",
   "metadata": {},
   "source": [
    "One last note about print():\n",
    "\n",
    "The definition of this function changed between python 2 and python 3\n",
    "\n",
    "If you are trying to run code from and old textbook you will have to update the print functions!"
   ]
  },
  {
   "cell_type": "markdown",
   "metadata": {},
   "source": [
    "### Variable assignment and output\n",
    "\n",
    "Variables are used to hold values"
   ]
  },
  {
   "cell_type": "code",
   "execution_count": 23,
   "metadata": {},
   "outputs": [],
   "source": [
    "# create a variable with name x and assign the value 3 to that variable\n",
    "x=3   "
   ]
  },
  {
   "cell_type": "code",
   "execution_count": 24,
   "metadata": {},
   "outputs": [
    {
     "name": "stdout",
     "output_type": "stream",
     "text": [
      "3\n"
     ]
    }
   ],
   "source": [
    "# print the variable contents to the screen. \n",
    "# note: the print output is the value assigned to the variable and not the name of the variable\n",
    "\n",
    "print (x)  "
   ]
  },
  {
   "cell_type": "code",
   "execution_count": 25,
   "metadata": {},
   "outputs": [],
   "source": [
    "# reassign the variable x \n",
    "x=4   "
   ]
  },
  {
   "cell_type": "code",
   "execution_count": 26,
   "metadata": {},
   "outputs": [
    {
     "name": "stdout",
     "output_type": "stream",
     "text": [
      "4\n"
     ]
    }
   ],
   "source": [
    "print(x)  "
   ]
  },
  {
   "cell_type": "code",
   "execution_count": 27,
   "metadata": {},
   "outputs": [
    {
     "name": "stdout",
     "output_type": "stream",
     "text": [
      "The value of x is 4 , isn't that cool!\n"
     ]
    }
   ],
   "source": [
    "print(\"The value of x is\", x,\", isn't that cool!\")    # You add some text  before and after the variable"
   ]
  },
  {
   "cell_type": "code",
   "execution_count": 28,
   "metadata": {},
   "outputs": [],
   "source": [
    "g=h=j=2 # Assign multiple variables to the same value"
   ]
  },
  {
   "cell_type": "code",
   "execution_count": 29,
   "metadata": {},
   "outputs": [
    {
     "name": "stdout",
     "output_type": "stream",
     "text": [
      "2 2 2\n"
     ]
    }
   ],
   "source": [
    "print(g,h,j)"
   ]
  },
  {
   "cell_type": "code",
   "execution_count": 30,
   "metadata": {},
   "outputs": [
    {
     "name": "stdout",
     "output_type": "stream",
     "text": [
      "2 2 3\n"
     ]
    }
   ],
   "source": [
    "j=3  # We can reassign j. This does not change g or h. \n",
    "print(g,h,j)"
   ]
  },
  {
   "cell_type": "code",
   "execution_count": 38,
   "metadata": {},
   "outputs": [
    {
     "name": "stdout",
     "output_type": "stream",
     "text": [
      "x =  7\n",
      "y =  7\n",
      "x =  8\n",
      "y =  7\n"
     ]
    }
   ],
   "source": [
    "x = 7\n",
    "y = x # Assign y to store the same value as x\n",
    "print(\"x = \",x)\n",
    "print(\"y = \",y)\n",
    "\n",
    "x = 8 # If we change the value of x the value of y does not change \n",
    "print(\"x = \",x)\n",
    "print(\"y = \",y)"
   ]
  },
  {
   "cell_type": "code",
   "execution_count": 39,
   "metadata": {},
   "outputs": [],
   "source": [
    "y,z = 5, 3.4   # Assign multiple variables to different values at once (y = 5 and z = 3.4)"
   ]
  },
  {
   "cell_type": "code",
   "execution_count": 40,
   "metadata": {},
   "outputs": [
    {
     "name": "stdout",
     "output_type": "stream",
     "text": [
      "8 5 3.4\n"
     ]
    }
   ],
   "source": [
    "print(x,y,z)  # You can print multiple variables ( they will be separated by a space)"
   ]
  },
  {
   "cell_type": "code",
   "execution_count": 41,
   "metadata": {},
   "outputs": [
    {
     "name": "stdout",
     "output_type": "stream",
     "text": [
      "8; 5; 3.4\n"
     ]
    }
   ],
   "source": [
    "print(x,y,z,sep=\"; \") # Print the variables again making them more readable"
   ]
  },
  {
   "cell_type": "markdown",
   "metadata": {},
   "source": [
    "### Variable names\n",
    "\n",
    "Python has rules about what can be used as a variable name. \n",
    "\n",
    "- Letters and underscores are okay. \n",
    "- A variable name cannot start with a number but it may contain a number\n",
    "- Other characters are not okay (dash, backslash, plus symbol etc.)"
   ]
  },
  {
   "cell_type": "code",
   "execution_count": 42,
   "metadata": {},
   "outputs": [],
   "source": [
    "x = 5  # okay\n",
    "CAPITAL = 34 # okay\n",
    "neutrino_1 = 2.59 #okay\n",
    "_galaxy5 = 3.2 # okay"
   ]
  },
  {
   "cell_type": "code",
   "execution_count": 43,
   "metadata": {},
   "outputs": [
    {
     "ename": "SyntaxError",
     "evalue": "invalid syntax (1572090017.py, line 1)",
     "output_type": "error",
     "traceback": [
      "\u001b[0;36m  Input \u001b[0;32mIn [43]\u001b[0;36m\u001b[0m\n\u001b[0;31m    25pro = 5.3 # not okay\u001b[0m\n\u001b[0m      ^\u001b[0m\n\u001b[0;31mSyntaxError\u001b[0m\u001b[0;31m:\u001b[0m invalid syntax\n"
     ]
    }
   ],
   "source": [
    "25pro = 5.3 # not okay"
   ]
  },
  {
   "cell_type": "code",
   "execution_count": 44,
   "metadata": {},
   "outputs": [
    {
     "ename": "SyntaxError",
     "evalue": "cannot assign to operator (2245514165.py, line 2)",
     "output_type": "error",
     "traceback": [
      "\u001b[0;36m  Input \u001b[0;32mIn [44]\u001b[0;36m\u001b[0m\n\u001b[0;31m    detector-5 = 0.3 # not okay\u001b[0m\n\u001b[0m    ^\u001b[0m\n\u001b[0;31mSyntaxError\u001b[0m\u001b[0;31m:\u001b[0m cannot assign to operator\n"
     ]
    }
   ],
   "source": [
    "detector_minus_5 = 0.3 # okay\n",
    "detector-5 = 0.3 # not okay"
   ]
  },
  {
   "cell_type": "code",
   "execution_count": 45,
   "metadata": {},
   "outputs": [
    {
     "ename": "SyntaxError",
     "evalue": "cannot assign to operator (1581541933.py, line 2)",
     "output_type": "error",
     "traceback": [
      "\u001b[0;36m  Input \u001b[0;32mIn [45]\u001b[0;36m\u001b[0m\n\u001b[0;31m    hydrogen+helium = 5 # not okay\u001b[0m\n\u001b[0m    ^\u001b[0m\n\u001b[0;31mSyntaxError\u001b[0m\u001b[0;31m:\u001b[0m cannot assign to operator\n"
     ]
    }
   ],
   "source": [
    "hydrogen_plus_helium = 5 # okay\n",
    "hydrogen+helium = 5 # not okay"
   ]
  },
  {
   "cell_type": "markdown",
   "metadata": {},
   "source": [
    "\n",
    "<font color=magenta>----Begin Exercise 01-2----</font> \n",
    "\n",
    "In the code cell below please do the following:\n",
    "\n",
    "1. Define a variable which stores Planck's constant (typically one uses the symbol h): $6.62 \\times 10^{-34} \\text{m}^2 \\text{kg/s}$\n",
    "    \n",
    "    - Hint: For scientific notation you can use the symbol \"e-34\" to denote $10^{-34}$ \n",
    "<br>\n",
    "<br>\n",
    "2. Define a variable which stores the value of $\\pi$: 3.14159265\n",
    "\n",
    "3. Use the previously defined variables to define the reduced Planck's constant (Planck's constant divided by $2\\pi$) for which we often use the name \"h-bar\"\n",
    "\n",
    "4. Print all 3 variables to the screen with text labels"
   ]
  },
  {
   "cell_type": "code",
   "execution_count": null,
   "metadata": {},
   "outputs": [],
   "source": []
  },
  {
   "cell_type": "markdown",
   "metadata": {},
   "source": [
    "<font color=magenta>----End Exercise----</font> "
   ]
  },
  {
   "cell_type": "markdown",
   "metadata": {
    "collapsed": true
   },
   "source": [
    "### Variable types\n",
    "\n",
    "python assigns an int, float, string or complex variable. \n",
    "\n",
    "* int = \"Integer\" \n",
    "    * Variable type used to store integer numbers (no decimals)\n",
    "* float = \"Floating point number\"\n",
    "    * Variable type used to store decimal numbers\n",
    "* str = \"String\"\n",
    "    * Variable type used to store text and manipulate text\n",
    "* complex = \"Complex number\"\n",
    "    * Variable type used to store complex numbers (both the real and imaginary part)\n",
    "\n",
    "\n",
    "Python is \"dynamically typed\". This means that you typically do not have to define the type (it figures it out for you). It also means that one variable name can be first defined as one type and later changed to contain a different type. "
   ]
  },
  {
   "cell_type": "code",
   "execution_count": 46,
   "metadata": {},
   "outputs": [
    {
     "data": {
      "text/plain": [
       "int"
      ]
     },
     "execution_count": 46,
     "metadata": {},
     "output_type": "execute_result"
    }
   ],
   "source": [
    "x = 5  #Python determines that this is an integer\n",
    "type(x)"
   ]
  },
  {
   "cell_type": "code",
   "execution_count": 47,
   "metadata": {},
   "outputs": [
    {
     "data": {
      "text/plain": [
       "float"
      ]
     },
     "execution_count": 47,
     "metadata": {},
     "output_type": "execute_result"
    }
   ],
   "source": [
    "y = 5.5 #Python determines that this is a floating point number\n",
    "type(y)"
   ]
  },
  {
   "cell_type": "code",
   "execution_count": 48,
   "metadata": {},
   "outputs": [
    {
     "data": {
      "text/plain": [
       "str"
      ]
     },
     "execution_count": 48,
     "metadata": {},
     "output_type": "execute_result"
    }
   ],
   "source": [
    "z=\"hello\" #Python determines that this is a string   \n",
    "type(z)"
   ]
  },
  {
   "cell_type": "code",
   "execution_count": 49,
   "metadata": {},
   "outputs": [
    {
     "data": {
      "text/plain": [
       "complex"
      ]
     },
     "execution_count": 49,
     "metadata": {},
     "output_type": "execute_result"
    }
   ],
   "source": [
    "m = 8 + 2j #Python determines that this is a complex number (Python uses j instead of i for the imaginary component)\n",
    "type(m)"
   ]
  },
  {
   "cell_type": "code",
   "execution_count": 50,
   "metadata": {},
   "outputs": [
    {
     "name": "stdout",
     "output_type": "stream",
     "text": [
      "(2+7j)\n"
     ]
    }
   ],
   "source": [
    "k = complex(2,7) # Python also includes a function which can be uses to define complex numbers. Syntax: complex(real, imaginary)\n",
    "type(k)\n",
    "print(k)"
   ]
  },
  {
   "cell_type": "code",
   "execution_count": 51,
   "metadata": {},
   "outputs": [
    {
     "name": "stdout",
     "output_type": "stream",
     "text": [
      "The real part of complex number is : 2.0\n",
      "The imaginary part of complex number is : 7.0\n"
     ]
    }
   ],
   "source": [
    "# You can print the real and imaginary part of complex number using the attributes \"real\" and \"imag\"\n",
    "print (\"The real part of complex number is : \",end=\"\") \n",
    "print (k.real) \n",
    "  \n",
    "print (\"The imaginary part of complex number is : \",end=\"\") \n",
    "print (k.imag) "
   ]
  },
  {
   "cell_type": "code",
   "execution_count": 52,
   "metadata": {},
   "outputs": [
    {
     "name": "stdout",
     "output_type": "stream",
     "text": [
      "5, 5.5, hello, (2+7j)\n"
     ]
    }
   ],
   "source": [
    "print(x,y,z,k,sep=\", \") #you can print variables of multiple types at once"
   ]
  },
  {
   "cell_type": "markdown",
   "metadata": {},
   "source": [
    "<font color=magenta>----Begin Exercise 01-3----</font> \n",
    "\n",
    "Four variables are defined below. In the code cell below each variable definition use the type() function to determine the type of previosly defined variable."
   ]
  },
  {
   "cell_type": "code",
   "execution_count": null,
   "metadata": {},
   "outputs": [],
   "source": [
    "# Determine the type of a\n",
    "a = \"27\""
   ]
  },
  {
   "cell_type": "code",
   "execution_count": null,
   "metadata": {},
   "outputs": [],
   "source": []
  },
  {
   "cell_type": "code",
   "execution_count": null,
   "metadata": {},
   "outputs": [],
   "source": [
    "# Determine the type of b\n",
    "b = -59.0"
   ]
  },
  {
   "cell_type": "code",
   "execution_count": null,
   "metadata": {},
   "outputs": [],
   "source": []
  },
  {
   "cell_type": "code",
   "execution_count": null,
   "metadata": {},
   "outputs": [],
   "source": [
    "# Determine the type of c\n",
    "c = -59"
   ]
  },
  {
   "cell_type": "code",
   "execution_count": null,
   "metadata": {},
   "outputs": [],
   "source": []
  },
  {
   "cell_type": "code",
   "execution_count": null,
   "metadata": {},
   "outputs": [],
   "source": [
    "# Determine the type of d after its final assignment\n",
    "d = 5.3e13\n",
    "d = \"whatisthis\"\n",
    "d = 32"
   ]
  },
  {
   "cell_type": "code",
   "execution_count": null,
   "metadata": {},
   "outputs": [],
   "source": []
  },
  {
   "cell_type": "code",
   "execution_count": null,
   "metadata": {},
   "outputs": [],
   "source": [
    "# Determine the type of g\n",
    "example_float = 15.5\n",
    "\n",
    "example_int = 5\n",
    "g = example_float + example_int"
   ]
  },
  {
   "cell_type": "code",
   "execution_count": null,
   "metadata": {},
   "outputs": [],
   "source": []
  },
  {
   "cell_type": "markdown",
   "metadata": {},
   "source": [
    "In the last example why was g assigned to be a float instead of an int?"
   ]
  },
  {
   "cell_type": "markdown",
   "metadata": {},
   "source": [
    "<font color=magenta>----End Exercise----</font> "
   ]
  },
  {
   "cell_type": "markdown",
   "metadata": {},
   "source": [
    "\n",
    "\n",
    "\n",
    "\n",
    "Python performs \"implicit conversion\" and automatically converts the int to a float when adding it to a float. If it were to instead convert the float to an int you would lose some information."
   ]
  },
  {
   "cell_type": "code",
   "execution_count": 56,
   "metadata": {},
   "outputs": [
    {
     "name": "stdout",
     "output_type": "stream",
     "text": [
      "x = 5\n",
      "y = 5.5\n",
      "x+y = 10.5\n",
      "type(x+y) =  <class 'float'>\n"
     ]
    }
   ],
   "source": [
    "# You can add together an int and a float. Python automatically makes the result a float.\n",
    "print(\"x =\",x)\n",
    "print(\"y =\",y)\n",
    "\n",
    "print(\"x+y =\",x+y)\n",
    "print(\"type(x+y) = \", type(x+y))"
   ]
  },
  {
   "cell_type": "code",
   "execution_count": 57,
   "metadata": {},
   "outputs": [
    {
     "name": "stdout",
     "output_type": "stream",
     "text": [
      "(7+7j)\n"
     ]
    }
   ],
   "source": [
    "# You can add together an int and a complex type. Python automatically makes the result a complex type.\n",
    "print(x+k)"
   ]
  },
  {
   "cell_type": "code",
   "execution_count": 58,
   "metadata": {},
   "outputs": [
    {
     "name": "stdout",
     "output_type": "stream",
     "text": [
      "(2+7j)\n",
      "(8+2j)\n",
      "(10+9j)\n"
     ]
    }
   ],
   "source": [
    "# You can add together two complex numbers. Python properly adds the real and imaginary parts seperately.\n",
    "print(k)\n",
    "print(m)\n",
    "print(k+m)"
   ]
  },
  {
   "cell_type": "markdown",
   "metadata": {},
   "source": [
    "### Converting between types\n",
    "\n",
    "Python has built-in functions which convert a variable from one type to another:\n"
   ]
  },
  {
   "cell_type": "code",
   "execution_count": 59,
   "metadata": {},
   "outputs": [
    {
     "name": "stdout",
     "output_type": "stream",
     "text": [
      "type(x) =  <class 'int'>\n",
      "x =  5\n",
      "type(y) =  <class 'float'>\n",
      "y =  5.0\n",
      "type(z) =  <class 'str'>\n",
      "z =  5\n",
      "type(k) =  <class 'int'>\n",
      "k =  5\n",
      "type(k) =  <class 'int'>\n",
      "k =  5\n",
      "type(m) =  <class 'complex'>\n",
      "m =  (5+0j)\n",
      "type(n) =  <class 'complex'>\n",
      "n =  (6+2j)\n"
     ]
    }
   ],
   "source": [
    "x = 5\n",
    "print(\"type(x) = \",type(x))\n",
    "print(\"x = \",x)\n",
    "\n",
    "y = float(x) # float() function converts a variable to be of float type\n",
    "print(\"type(y) = \",type(y))\n",
    "print(\"y = \",y)\n",
    "\n",
    "z = str(x) # str() function converts a variable to be of string type\n",
    "print(\"type(z) = \",type(z))\n",
    "print(\"z = \",z)\n",
    "\n",
    "k = int(y) # int() function converts a variable to be of int type (note information loss float->int)\n",
    "print(\"type(k) = \",type(k))\n",
    "print(\"k = \",k)\n",
    "\n",
    "j = int(z)\n",
    "print(\"type(k) = \",type(k))\n",
    "print(\"k = \",k)\n",
    "\n",
    "m = complex(x) # complex() function can also be used to convert a int or float or string to a complex type\n",
    "print(\"type(m) = \",type(m))\n",
    "print(\"m = \",m)\n",
    "\n",
    "\n",
    "n = complex(\"6+2j\") # complex() function can also be used to convert a int or float or string to a complex type\n",
    "print(\"type(n) = \",type(n))\n",
    "print(\"n = \",n)"
   ]
  },
  {
   "cell_type": "markdown",
   "metadata": {},
   "source": [
    "<font color=magenta>----Begin Exercise 01-4----</font> \n"
   ]
  },
  {
   "cell_type": "code",
   "execution_count": null,
   "metadata": {},
   "outputs": [],
   "source": [
    "#convert the following variables to integers \n",
    "#  and print out the converted value \n",
    "#  and the new type\n",
    "b_float = -59.3\n",
    "c_float = 23.5\n",
    "d_float = 100.99"
   ]
  },
  {
   "cell_type": "code",
   "execution_count": null,
   "metadata": {},
   "outputs": [],
   "source": []
  },
  {
   "cell_type": "code",
   "execution_count": null,
   "metadata": {},
   "outputs": [],
   "source": [
    "#convert the following variables to strings \n",
    "#  and define e_str and f_str to hold these values\n",
    "#  and print out the converted value \n",
    "#  and the new type\n",
    "e_int = 94\n",
    "f_float = -3.1"
   ]
  },
  {
   "cell_type": "code",
   "execution_count": null,
   "metadata": {},
   "outputs": [],
   "source": []
  },
  {
   "cell_type": "code",
   "execution_count": null,
   "metadata": {},
   "outputs": [],
   "source": [
    "# See what happens when you try to add e_str and f_str. Add them together then print the result to the screen."
   ]
  },
  {
   "cell_type": "code",
   "execution_count": null,
   "metadata": {},
   "outputs": [],
   "source": []
  },
  {
   "cell_type": "code",
   "execution_count": null,
   "metadata": {},
   "outputs": [],
   "source": [
    "#convert the following variables to floats (note if either causes an error message)\n",
    "h_int = 394\n",
    "k_str = \"hello\""
   ]
  },
  {
   "cell_type": "code",
   "execution_count": null,
   "metadata": {},
   "outputs": [],
   "source": []
  },
  {
   "cell_type": "code",
   "execution_count": null,
   "metadata": {},
   "outputs": [],
   "source": []
  },
  {
   "cell_type": "markdown",
   "metadata": {},
   "source": [
    "<font color=magenta>----End Exercise----</font> "
   ]
  },
  {
   "cell_type": "markdown",
   "metadata": {},
   "source": [
    "### Requesting input\n",
    "\n",
    "You can use the built-in function input() to request input from "
   ]
  },
  {
   "cell_type": "code",
   "execution_count": 60,
   "metadata": {},
   "outputs": [
    {
     "name": "stdout",
     "output_type": "stream",
     "text": [
      "Please enter the value of x: 5\n"
     ]
    }
   ],
   "source": [
    "x=input(\"Please enter the value of x: \") "
   ]
  },
  {
   "cell_type": "code",
   "execution_count": 61,
   "metadata": {},
   "outputs": [
    {
     "name": "stdout",
     "output_type": "stream",
     "text": [
      "5\n"
     ]
    }
   ],
   "source": [
    "print(x) "
   ]
  },
  {
   "cell_type": "code",
   "execution_count": 62,
   "metadata": {},
   "outputs": [
    {
     "data": {
      "text/plain": [
       "str"
      ]
     },
     "execution_count": 62,
     "metadata": {},
     "output_type": "execute_result"
    }
   ],
   "source": [
    "type(x)    # what type is this?"
   ]
  },
  {
   "cell_type": "markdown",
   "metadata": {},
   "source": [
    "An input variable is always a string. It is easy to convert to a float:"
   ]
  },
  {
   "cell_type": "code",
   "execution_count": 63,
   "metadata": {},
   "outputs": [],
   "source": [
    "y=float(x)"
   ]
  },
  {
   "cell_type": "code",
   "execution_count": 64,
   "metadata": {},
   "outputs": [
    {
     "name": "stdout",
     "output_type": "stream",
     "text": [
      "5.0\n"
     ]
    }
   ],
   "source": [
    "print(y)"
   ]
  },
  {
   "cell_type": "code",
   "execution_count": 65,
   "metadata": {},
   "outputs": [
    {
     "data": {
      "text/plain": [
       "float"
      ]
     },
     "execution_count": 65,
     "metadata": {},
     "output_type": "execute_result"
    }
   ],
   "source": [
    "type(y)"
   ]
  },
  {
   "cell_type": "markdown",
   "metadata": {},
   "source": [
    "<font color=magenta>----Begin Exercise 01-5----</font>"
   ]
  },
  {
   "cell_type": "markdown",
   "metadata": {
    "collapsed": true
   },
   "source": [
    "Do the following in one line:\n",
    "- define a variable\n",
    "- request the user to input a number\n",
    "- convert it to a float"
   ]
  },
  {
   "cell_type": "code",
   "execution_count": null,
   "metadata": {},
   "outputs": [],
   "source": []
  },
  {
   "cell_type": "markdown",
   "metadata": {
    "collapsed": true
   },
   "source": [
    "<font color=magenta>----End Exercise----</font> "
   ]
  },
  {
   "cell_type": "markdown",
   "metadata": {},
   "source": [
    "Here is an example solution (first with two lines, then with one): "
   ]
  },
  {
   "cell_type": "code",
   "execution_count": null,
   "metadata": {},
   "outputs": [],
   "source": [
    "x=float(input(\"Enter the value of x: \"))"
   ]
  },
  {
   "cell_type": "code",
   "execution_count": null,
   "metadata": {},
   "outputs": [],
   "source": [
    "print(\"The value of x is\", x)"
   ]
  },
  {
   "cell_type": "code",
   "execution_count": null,
   "metadata": {},
   "outputs": [],
   "source": [
    "x=float(input(\"Enter the value of x: \"))  # you will get an error if you feed in a string"
   ]
  },
  {
   "cell_type": "markdown",
   "metadata": {},
   "source": [
    "### Arithmetic\n",
    "\n",
    "You can use Python as a calculator!"
   ]
  },
  {
   "cell_type": "code",
   "execution_count": 66,
   "metadata": {},
   "outputs": [],
   "source": [
    "x=10 # Assign the variable x to store the int 10"
   ]
  },
  {
   "cell_type": "code",
   "execution_count": 67,
   "metadata": {},
   "outputs": [],
   "source": [
    "y=2.3822  # Assign the variable y to store a float"
   ]
  },
  {
   "cell_type": "code",
   "execution_count": 68,
   "metadata": {},
   "outputs": [
    {
     "data": {
      "text/plain": [
       "12.382200000000001"
      ]
     },
     "execution_count": 68,
     "metadata": {},
     "output_type": "execute_result"
    }
   ],
   "source": [
    "x+y # addition"
   ]
  },
  {
   "cell_type": "code",
   "execution_count": 69,
   "metadata": {},
   "outputs": [
    {
     "data": {
      "text/plain": [
       "7.6178"
      ]
     },
     "execution_count": 69,
     "metadata": {},
     "output_type": "execute_result"
    }
   ],
   "source": [
    "x-y # subtraction"
   ]
  },
  {
   "cell_type": "code",
   "execution_count": 70,
   "metadata": {},
   "outputs": [
    {
     "data": {
      "text/plain": [
       "23.822000000000003"
      ]
     },
     "execution_count": 70,
     "metadata": {},
     "output_type": "execute_result"
    }
   ],
   "source": [
    "x*y # multiplication"
   ]
  },
  {
   "cell_type": "code",
   "execution_count": 71,
   "metadata": {},
   "outputs": [
    {
     "data": {
      "text/plain": [
       "4.197800352615229"
      ]
     },
     "execution_count": 71,
     "metadata": {},
     "output_type": "execute_result"
    }
   ],
   "source": [
    "x/y # division"
   ]
  },
  {
   "cell_type": "code",
   "execution_count": 72,
   "metadata": {},
   "outputs": [
    {
     "data": {
      "text/plain": [
       "241.10154867304115"
      ]
     },
     "execution_count": 72,
     "metadata": {},
     "output_type": "execute_result"
    }
   ],
   "source": [
    "x**y  # raising x to the power of y"
   ]
  },
  {
   "cell_type": "code",
   "execution_count": 73,
   "metadata": {},
   "outputs": [
    {
     "data": {
      "text/plain": [
       "4.0"
      ]
     },
     "execution_count": 73,
     "metadata": {},
     "output_type": "execute_result"
    }
   ],
   "source": [
    "x//y  # integer division aka floor division (rounds the result down to the nearest integer)"
   ]
  },
  {
   "cell_type": "code",
   "execution_count": 74,
   "metadata": {},
   "outputs": [
    {
     "data": {
      "text/plain": [
       "4"
      ]
     },
     "execution_count": 74,
     "metadata": {},
     "output_type": "execute_result"
    }
   ],
   "source": [
    "14//3"
   ]
  },
  {
   "cell_type": "code",
   "execution_count": 75,
   "metadata": {},
   "outputs": [
    {
     "data": {
      "text/plain": [
       "-5"
      ]
     },
     "execution_count": 75,
     "metadata": {},
     "output_type": "execute_result"
    }
   ],
   "source": [
    "-14//3"
   ]
  },
  {
   "cell_type": "code",
   "execution_count": 76,
   "metadata": {},
   "outputs": [
    {
     "data": {
      "text/plain": [
       "0.4711999999999996"
      ]
     },
     "execution_count": 76,
     "metadata": {},
     "output_type": "execute_result"
    }
   ],
   "source": [
    "x%y  # modulo (gives the remainder after x is divided by y)"
   ]
  },
  {
   "cell_type": "code",
   "execution_count": 77,
   "metadata": {},
   "outputs": [
    {
     "data": {
      "text/plain": [
       "2"
      ]
     },
     "execution_count": 77,
     "metadata": {},
     "output_type": "execute_result"
    }
   ],
   "source": [
    "14%3  # 14/3 = 4 remainder 2"
   ]
  },
  {
   "cell_type": "markdown",
   "metadata": {},
   "source": [
    "Why is modulo useful? You can use it to find if one number is divisible by a number or if a number is even or odd (by taking the modulo with 2)"
   ]
  },
  {
   "cell_type": "markdown",
   "metadata": {},
   "source": [
    "<font color=magenta>----Begin Exercise 01-6----</font> "
   ]
  },
  {
   "cell_type": "code",
   "execution_count": null,
   "metadata": {},
   "outputs": [],
   "source": [
    "# Test if the following numbers are even or odd using the modulo operator\n",
    "#   4045\n",
    "# -44\n",
    "# Hint: An even number modulo 2 will have 0 remainder"
   ]
  },
  {
   "cell_type": "code",
   "execution_count": null,
   "metadata": {},
   "outputs": [],
   "source": []
  },
  {
   "cell_type": "markdown",
   "metadata": {},
   "source": [
    "<font color=magenta>----End Exercise----</font> "
   ]
  },
  {
   "cell_type": "markdown",
   "metadata": {},
   "source": [
    "\"\n",
    "\n",
    "\n",
    "\n",
    "\n",
    "\n",
    "\"\n",
    "\n",
    "\n",
    "\n",
    "\n",
    "\n",
    "Quick example: The modulo operator can be very useful for sampling some fraction of numbers"
   ]
  },
  {
   "cell_type": "code",
   "execution_count": null,
   "metadata": {},
   "outputs": [],
   "source": [
    "4%2 # 4 is even"
   ]
  },
  {
   "cell_type": "code",
   "execution_count": null,
   "metadata": {},
   "outputs": [],
   "source": [
    "5%2 # 5 is odd"
   ]
  },
  {
   "cell_type": "code",
   "execution_count": null,
   "metadata": {},
   "outputs": [],
   "source": [
    "for x in range(0, 2000):    # We will get to for statements and if statements later\n",
    "    if x%100==0:\n",
    "        print(x)"
   ]
  },
  {
   "cell_type": "markdown",
   "metadata": {},
   "source": [
    "#### Order of operations"
   ]
  },
  {
   "cell_type": "markdown",
   "metadata": {},
   "source": [
    "Python uses the standard order of operations\n",
    "PEMDAS\n",
    "(Parentheses\n",
    "Exponents\n",
    "Multiplication and Division\n",
    "Addition and Subtraction)"
   ]
  },
  {
   "cell_type": "markdown",
   "metadata": {
    "collapsed": true
   },
   "source": [
    "<font color=magenta>----Begin Exercise 01-7----</font> \n",
    "\n",
    "calculate and print average velocity using the formula $v_{\\text{avg}}=\\frac{x_2-x_1}{t_2-t_1}$\n"
   ]
  },
  {
   "cell_type": "code",
   "execution_count": null,
   "metadata": {},
   "outputs": [],
   "source": [
    "x1 = 1.5 # m\n",
    "x2 = 24.4 # m\n",
    "t1 = 13.3 # s\n",
    "t2 = 19.1 # s\n",
    "\n"
   ]
  },
  {
   "cell_type": "markdown",
   "metadata": {},
   "source": [
    "Calculate and print the following formula $k = g^{\\frac{h}{j}}$"
   ]
  },
  {
   "cell_type": "code",
   "execution_count": null,
   "metadata": {},
   "outputs": [],
   "source": [
    "g = 3.3\n",
    "h = 12.4\n",
    "j = 4.2\n",
    "\n",
    "\n"
   ]
  },
  {
   "cell_type": "markdown",
   "metadata": {},
   "source": [
    "<font color=magenta>----End Exercise----</font> "
   ]
  },
  {
   "cell_type": "markdown",
   "metadata": {},
   "source": [
    "#### Arithmetic and type"
   ]
  },
  {
   "cell_type": "code",
   "execution_count": 78,
   "metadata": {},
   "outputs": [],
   "source": [
    "x,y = 1,2"
   ]
  },
  {
   "cell_type": "code",
   "execution_count": 79,
   "metadata": {},
   "outputs": [
    {
     "data": {
      "text/plain": [
       "int"
      ]
     },
     "execution_count": 79,
     "metadata": {},
     "output_type": "execute_result"
    }
   ],
   "source": [
    "type(x+y)"
   ]
  },
  {
   "cell_type": "code",
   "execution_count": 80,
   "metadata": {},
   "outputs": [],
   "source": [
    "x,y = 1,2.5"
   ]
  },
  {
   "cell_type": "code",
   "execution_count": 81,
   "metadata": {},
   "outputs": [
    {
     "data": {
      "text/plain": [
       "float"
      ]
     },
     "execution_count": 81,
     "metadata": {},
     "output_type": "execute_result"
    }
   ],
   "source": [
    "type(x+y)"
   ]
  },
  {
   "cell_type": "code",
   "execution_count": 82,
   "metadata": {},
   "outputs": [
    {
     "name": "stdout",
     "output_type": "stream",
     "text": [
      "3.5\n"
     ]
    }
   ],
   "source": [
    "print(x+y)"
   ]
  },
  {
   "cell_type": "code",
   "execution_count": 83,
   "metadata": {},
   "outputs": [],
   "source": [
    "x,y = 1.5,2.5"
   ]
  },
  {
   "cell_type": "code",
   "execution_count": 84,
   "metadata": {},
   "outputs": [
    {
     "data": {
      "text/plain": [
       "float"
      ]
     },
     "execution_count": 84,
     "metadata": {},
     "output_type": "execute_result"
    }
   ],
   "source": [
    "type(x+y)"
   ]
  },
  {
   "cell_type": "markdown",
   "metadata": {},
   "source": [
    "Division never gives an int"
   ]
  },
  {
   "cell_type": "code",
   "execution_count": 85,
   "metadata": {},
   "outputs": [],
   "source": [
    "x,y = 4,2"
   ]
  },
  {
   "cell_type": "code",
   "execution_count": 86,
   "metadata": {},
   "outputs": [
    {
     "data": {
      "text/plain": [
       "float"
      ]
     },
     "execution_count": 86,
     "metadata": {},
     "output_type": "execute_result"
    }
   ],
   "source": [
    "type(x/y)"
   ]
  },
  {
   "cell_type": "code",
   "execution_count": 87,
   "metadata": {},
   "outputs": [],
   "source": [
    "x,y = 5,2"
   ]
  },
  {
   "cell_type": "code",
   "execution_count": 88,
   "metadata": {},
   "outputs": [
    {
     "data": {
      "text/plain": [
       "float"
      ]
     },
     "execution_count": 88,
     "metadata": {},
     "output_type": "execute_result"
    }
   ],
   "source": [
    "type(x/y)"
   ]
  },
  {
   "cell_type": "code",
   "execution_count": 89,
   "metadata": {},
   "outputs": [
    {
     "name": "stdout",
     "output_type": "stream",
     "text": [
      "2.5\n"
     ]
    }
   ],
   "source": [
    "print(x/y)"
   ]
  },
  {
   "cell_type": "markdown",
   "metadata": {},
   "source": [
    "#### Some notes on precision"
   ]
  },
  {
   "cell_type": "code",
   "execution_count": 90,
   "metadata": {},
   "outputs": [
    {
     "data": {
      "text/plain": [
       "1.0"
      ]
     },
     "execution_count": 90,
     "metadata": {},
     "output_type": "execute_result"
    }
   ],
   "source": [
    "(1/50.0)*50.0"
   ]
  },
  {
   "cell_type": "code",
   "execution_count": 91,
   "metadata": {},
   "outputs": [
    {
     "data": {
      "text/plain": [
       "1.0"
      ]
     },
     "execution_count": 91,
     "metadata": {},
     "output_type": "execute_result"
    }
   ],
   "source": [
    "(1/51.0)*51.0"
   ]
  },
  {
   "cell_type": "code",
   "execution_count": 92,
   "metadata": {},
   "outputs": [
    {
     "data": {
      "text/plain": [
       "0.9999999999999999"
      ]
     },
     "execution_count": 92,
     "metadata": {},
     "output_type": "execute_result"
    }
   ],
   "source": [
    "(1/59.3)*59.3"
   ]
  },
  {
   "cell_type": "code",
   "execution_count": 93,
   "metadata": {},
   "outputs": [
    {
     "data": {
      "text/plain": [
       "0.9999999999999999"
      ]
     },
     "execution_count": 93,
     "metadata": {},
     "output_type": "execute_result"
    }
   ],
   "source": [
    "(1/49.0)*49.0"
   ]
  },
  {
   "cell_type": "markdown",
   "metadata": {},
   "source": [
    "Why aren't we getting 1?\n",
    "Many real numbers need an infinite number of decimals. This obviously isn't possible with limited memory. The computer truncates floats to 16 digits leading to small rounding errors in some cases. We will learn more about this in a future notebook!"
   ]
  },
  {
   "cell_type": "markdown",
   "metadata": {},
   "source": [
    "#### Combine mathematical operations"
   ]
  },
  {
   "cell_type": "code",
   "execution_count": 94,
   "metadata": {},
   "outputs": [
    {
     "data": {
      "text/plain": [
       "10"
      ]
     },
     "execution_count": 94,
     "metadata": {},
     "output_type": "execute_result"
    }
   ],
   "source": [
    "x = 6\n",
    "y = 2\n",
    "\n",
    "x+2*y"
   ]
  },
  {
   "cell_type": "code",
   "execution_count": 95,
   "metadata": {},
   "outputs": [
    {
     "data": {
      "text/plain": [
       "5.0"
      ]
     },
     "execution_count": 95,
     "metadata": {},
     "output_type": "execute_result"
    }
   ],
   "source": [
    "x-y/2"
   ]
  },
  {
   "cell_type": "code",
   "execution_count": 96,
   "metadata": {},
   "outputs": [
    {
     "data": {
      "text/plain": [
       "108"
      ]
     },
     "execution_count": 96,
     "metadata": {},
     "output_type": "execute_result"
    }
   ],
   "source": [
    "3*x**2"
   ]
  },
  {
   "cell_type": "code",
   "execution_count": 97,
   "metadata": {},
   "outputs": [
    {
     "data": {
      "text/plain": [
       "6.0"
      ]
     },
     "execution_count": 97,
     "metadata": {},
     "output_type": "execute_result"
    }
   ],
   "source": [
    "x/2*y  #  x*y / 2"
   ]
  },
  {
   "cell_type": "code",
   "execution_count": 98,
   "metadata": {},
   "outputs": [
    {
     "data": {
      "text/plain": [
       "16"
      ]
     },
     "execution_count": 98,
     "metadata": {},
     "output_type": "execute_result"
    }
   ],
   "source": [
    "2*(x+y)"
   ]
  },
  {
   "cell_type": "markdown",
   "metadata": {},
   "source": [
    "python cannot rearrange an equation"
   ]
  },
  {
   "cell_type": "code",
   "execution_count": 99,
   "metadata": {},
   "outputs": [
    {
     "ename": "SyntaxError",
     "evalue": "cannot assign to operator (717209932.py, line 1)",
     "output_type": "error",
     "traceback": [
      "\u001b[0;36m  Input \u001b[0;32mIn [99]\u001b[0;36m\u001b[0m\n\u001b[0;31m    2*x=y\u001b[0m\n\u001b[0m    ^\u001b[0m\n\u001b[0;31mSyntaxError\u001b[0m\u001b[0;31m:\u001b[0m cannot assign to operator\n"
     ]
    }
   ],
   "source": [
    "2*x=y"
   ]
  },
  {
   "cell_type": "code",
   "execution_count": 100,
   "metadata": {},
   "outputs": [],
   "source": [
    "x = 2*y # this is an assignment not an equation"
   ]
  },
  {
   "cell_type": "code",
   "execution_count": 101,
   "metadata": {},
   "outputs": [
    {
     "name": "stdout",
     "output_type": "stream",
     "text": [
      "4\n"
     ]
    }
   ],
   "source": [
    "print(x)"
   ]
  },
  {
   "cell_type": "code",
   "execution_count": 103,
   "metadata": {},
   "outputs": [],
   "source": [
    "# The following statement doesn't make sense as an equation but it does make sense in python as an assignment\n",
    "x = x + 1   # This statement takes the current value assigned to x (4), adds 1 to it, then reassigns x to be equal to the sum.\n"
   ]
  },
  {
   "cell_type": "code",
   "execution_count": 104,
   "metadata": {},
   "outputs": [
    {
     "name": "stdout",
     "output_type": "stream",
     "text": [
      "6\n"
     ]
    }
   ],
   "source": [
    "print(x)"
   ]
  },
  {
   "cell_type": "code",
   "execution_count": 105,
   "metadata": {},
   "outputs": [
    {
     "name": "stdout",
     "output_type": "stream",
     "text": [
      "0\n",
      "-2\n"
     ]
    }
   ],
   "source": [
    "x = 0\n",
    "print(x)\n",
    "x = x**2 - 2    # this is not a quadratic equation x = x^2 -2 , it is an assignment\n",
    "print(x)"
   ]
  },
  {
   "cell_type": "markdown",
   "metadata": {},
   "source": [
    "#### Variable modifiers"
   ]
  },
  {
   "cell_type": "code",
   "execution_count": 106,
   "metadata": {},
   "outputs": [
    {
     "name": "stdout",
     "output_type": "stream",
     "text": [
      "4\n",
      "5\n"
     ]
    }
   ],
   "source": [
    "x=4\n",
    "print(x)\n",
    "x+=1         # this is the same assigning x = x + 1\n",
    "print(x)"
   ]
  },
  {
   "cell_type": "code",
   "execution_count": 107,
   "metadata": {},
   "outputs": [
    {
     "name": "stdout",
     "output_type": "stream",
     "text": [
      "4\n",
      "3\n"
     ]
    }
   ],
   "source": [
    "x=4\n",
    "print(x)\n",
    "x-=1         # this is the same assigning x = x - 1\n",
    "print(x)"
   ]
  },
  {
   "cell_type": "code",
   "execution_count": 108,
   "metadata": {},
   "outputs": [
    {
     "name": "stdout",
     "output_type": "stream",
     "text": [
      "4\n",
      "10.0\n"
     ]
    }
   ],
   "source": [
    "x=4\n",
    "print(x)\n",
    "\n",
    "x*=2.5      # this is the same assigning x = x * 2.5\n",
    "print(x)"
   ]
  },
  {
   "cell_type": "code",
   "execution_count": 109,
   "metadata": {},
   "outputs": [
    {
     "name": "stdout",
     "output_type": "stream",
     "text": [
      "4\n",
      "2.0\n"
     ]
    }
   ],
   "source": [
    "x=4\n",
    "print(x)\n",
    "x/=2        # this is the same assigning x = x / 2 \n",
    "print(x)"
   ]
  },
  {
   "cell_type": "markdown",
   "metadata": {},
   "source": [
    "#### Multiple variable assignment"
   ]
  },
  {
   "cell_type": "code",
   "execution_count": 110,
   "metadata": {},
   "outputs": [
    {
     "name": "stdout",
     "output_type": "stream",
     "text": [
      "1 2.5\n"
     ]
    }
   ],
   "source": [
    "x,y = 1, 2.5\n",
    "print(x,y)"
   ]
  },
  {
   "cell_type": "code",
   "execution_count": 111,
   "metadata": {},
   "outputs": [
    {
     "name": "stdout",
     "output_type": "stream",
     "text": [
      "9 3.5\n"
     ]
    }
   ],
   "source": [
    "z=4\n",
    "x,y = 2*z+1, (x+y)\n",
    "print(x,y)"
   ]
  },
  {
   "cell_type": "code",
   "execution_count": 112,
   "metadata": {},
   "outputs": [
    {
     "name": "stdout",
     "output_type": "stream",
     "text": [
      "3 4\n",
      "4 3\n"
     ]
    }
   ],
   "source": [
    "x,y = 3,4\n",
    "print(x,y)\n",
    "\n",
    "x,y = y,x   # swap variables ( more challanging in other languages)\n",
    "print(x,y)"
   ]
  },
  {
   "cell_type": "markdown",
   "metadata": {},
   "source": [
    "### Example - Using Python for physics arithmetic "
   ]
  },
  {
   "cell_type": "markdown",
   "metadata": {},
   "source": [
    "A building is $h$ meters tall. You stand on a roof and throw a ball straight down with speed $v$. How fast is the ball moving when it hits the ground? Ignore air resistance. "
   ]
  },
  {
   "cell_type": "markdown",
   "metadata": {},
   "source": [
    "Note: Use constant acceleration equation $v^2 = v_o^2 + 2 a h$"
   ]
  },
  {
   "cell_type": "code",
   "execution_count": 113,
   "metadata": {},
   "outputs": [
    {
     "name": "stdout",
     "output_type": "stream",
     "text": [
      "Enter the height of the building: 10\n",
      "Enter the speed of the ball (thrown straight down): 3\n",
      "The final speed of the ball is  14.324803663575986 m/s\n"
     ]
    }
   ],
   "source": [
    "# Ask users for input\n",
    "h = float(input(\"Enter the height of the building: \"))\n",
    "v_init = float(input(\"Enter the speed of the ball (thrown straight down): \"))\n",
    "\n",
    "# Define constants\n",
    "g = 9.81  #Acceleration due to gravity in m/s^2 \n",
    "\n",
    "# Calcluate and print\n",
    "v_final = (v_init**2 + 2*g*h)**(0.5)\n",
    "print(\"The final speed of the ball is \",v_final,\"m/s\")"
   ]
  },
  {
   "cell_type": "markdown",
   "metadata": {},
   "source": [
    "### Looking ahead"
   ]
  },
  {
   "cell_type": "markdown",
   "metadata": {},
   "source": [
    "Instead of defining one building height, we can definte many different heights and store these in an array. We can then use NumPy to caluculate the final velocity of a ball thrown from many heights simultaneously. We can then plot this using MatPlotLib and understand how building height affects the final velocity!"
   ]
  },
  {
   "cell_type": "code",
   "execution_count": 124,
   "metadata": {},
   "outputs": [
    {
     "data": {
      "image/png": "[encoded data removed]",
      "text/plain": [
       "<Figure size 576x432 with 1 Axes>"
      ]
     },
     "metadata": {
      "needs_background": "light"
     },
     "output_type": "display_data"
    }
   ],
   "source": [
    "import matplotlib.pyplot as plt\n",
    "import numpy as np\n",
    "\n",
    "# Define a python list which stores many building heights\n",
    "height_list  = [0,10,20,30,40,50,60,70,80,90,100,110,120,130,140,150,160,170,180,190,200] # Building height in meters\n",
    "\n",
    "# Convert the list to a python array. This will allow us to perform calculations on the whole list at once.\n",
    "height_array = np.array(height_list,float)\n",
    "\n",
    "# Calculate the final velocity for every height stored in the buildinh height array\n",
    "final_velocity_array = (v_init**2 + 2*g*height_array)**(0.5)\n",
    "\n",
    "# Make a plot\n",
    "\n",
    "plt.figure(figsize=(8,6))\n",
    "plt.plot(height_array,final_velocity_array,\"bo\"  , label='sin($x$)') \n",
    "\n",
    "# Label the axes and increase the font\n",
    "plt.xlabel(\"Building Height (m)\"      , fontsize=20)\n",
    "plt.ylabel(\"Speed ball hits ground (m/s)\"      , fontsize=20)\n",
    "\n",
    "# Title the plot\n",
    "plt.title('Final speed of ball thrown down at '+str(v_init)+' m/s off a building roof with no air resistance', fontsize=14)\n",
    "\n",
    "# Draw a grid\n",
    "plt.grid(True)\n",
    "\n",
    "# Increase axis tick labels (there are a few ways to do this)\n",
    "plt.tick_params(axis='both', which='major', labelsize=16)\n",
    "\n",
    "# Save the plot as a png\n",
    "#  plot.savefig(\"trig.png\")\n",
    "\n",
    "# Display the plot on screen \n",
    "plt.show()"
   ]
  },
  {
   "cell_type": "code",
   "execution_count": null,
   "metadata": {},
   "outputs": [],
   "source": []
  }
 ],
 "metadata": {
  "kernelspec": {
   "display_name": "Python 3 (ipykernel)",
   "language": "python",
   "name": "python3"
  },
  "language_info": {
   "codemirror_mode": {
    "name": "ipython",
    "version": 3
   },
   "file_extension": ".py",
   "mimetype": "text/x-python",
   "name": "python",
   "nbconvert_exporter": "python",
   "pygments_lexer": "ipython3",
   "version": "3.9.12"
  }
 },
 "nbformat": 4,
 "nbformat_minor": 2
}
