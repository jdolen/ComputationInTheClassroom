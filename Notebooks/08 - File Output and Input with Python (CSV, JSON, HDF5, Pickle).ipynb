{
 "cells": [
  {
   "cell_type": "markdown",
   "metadata": {},
   "source": [
    "# Notebook 08 - File Input/Output\n",
    "\n",
    "### open\n",
    "\n",
    "file_in = open(path,mode)\n",
    "\n",
    "where path is a string with the path to the file\n",
    "\n",
    "'filename.txt'\n",
    "\n",
    "or '/users/jdolen/Documents/filename.txt' \n",
    "\n",
    "\n",
    "and mode is a string which sets access:\n",
    "\n",
    "'r' : use for reading\n",
    "\n",
    "'w' : use for writing\n",
    "\n",
    "'x' : use for creating and writing to a new file\n",
    "\n",
    "'a' : use for appending to a file\n",
    "\n",
    "'r+' : use for reading and writing to the same file"
   ]
  },
  {
   "cell_type": "markdown",
   "metadata": {},
   "source": [
    "### Writing"
   ]
  },
  {
   "cell_type": "code",
   "execution_count": 2,
   "metadata": {},
   "outputs": [],
   "source": [
    "# First open a new file\n",
    "path = 'candy3.txt'\n",
    "file = open(path,'x')"
   ]
  },
  {
   "cell_type": "code",
   "execution_count": 3,
   "metadata": {},
   "outputs": [
    {
     "data": {
      "text/plain": [
       "6"
      ]
     },
     "execution_count": 3,
     "metadata": {},
     "output_type": "execute_result"
    }
   ],
   "source": [
    "# now that the new file is open, we can write to it:\n",
    "file.write(\"Snickers\")\n",
    "file.write(\"Twix\")\n",
    "file.write(\"KitKat\")"
   ]
  },
  {
   "cell_type": "code",
   "execution_count": 4,
   "metadata": {
    "collapsed": true
   },
   "outputs": [],
   "source": [
    "# if you are done you should close the file\n",
    "file.close()"
   ]
  },
  {
   "cell_type": "code",
   "execution_count": 5,
   "metadata": {},
   "outputs": [
    {
     "name": "stdout",
     "output_type": "stream",
     "text": [
      "SnickersTwixKitKat"
     ]
    }
   ],
   "source": [
    "# On a linux or mac computer this command will show you the contents of candy.txt\n",
    "! head candy2.txt\n",
    "\n",
    "# On a windows computer you can try opening the file with windows explorer"
   ]
  },
  {
   "cell_type": "code",
   "execution_count": 6,
   "metadata": {},
   "outputs": [
    {
     "ename": "FileExistsError",
     "evalue": "[Errno 17] File exists: 'candy.txt'",
     "output_type": "error",
     "traceback": [
      "\u001b[0;31m---------------------------------------------------------------------------\u001b[0m",
      "\u001b[0;31mFileExistsError\u001b[0m                           Traceback (most recent call last)",
      "\u001b[0;32m<ipython-input-6-29154906a60c>\u001b[0m in \u001b[0;36m<module>\u001b[0;34m()\u001b[0m\n\u001b[1;32m      1\u001b[0m \u001b[0;31m# try again. but note since we are using mode x we can't write to the same file name\u001b[0m\u001b[0;34m\u001b[0m\u001b[0;34m\u001b[0m\u001b[0m\n\u001b[1;32m      2\u001b[0m \u001b[0mpath\u001b[0m \u001b[0;34m=\u001b[0m \u001b[0;34m'candy.txt'\u001b[0m\u001b[0;34m\u001b[0m\u001b[0m\n\u001b[0;32m----> 3\u001b[0;31m \u001b[0mfile\u001b[0m \u001b[0;34m=\u001b[0m \u001b[0mopen\u001b[0m\u001b[0;34m(\u001b[0m\u001b[0mpath\u001b[0m\u001b[0;34m,\u001b[0m\u001b[0;34m'x'\u001b[0m\u001b[0;34m)\u001b[0m\u001b[0;34m\u001b[0m\u001b[0m\n\u001b[0m",
      "\u001b[0;31mFileExistsError\u001b[0m: [Errno 17] File exists: 'candy.txt'"
     ]
    }
   ],
   "source": [
    "# try again. but note since we are using mode x we can't write to the same file name\n",
    "path = 'candy.txt'\n",
    "file = open(path,'x')"
   ]
  },
  {
   "cell_type": "code",
   "execution_count": 6,
   "metadata": {
    "collapsed": true
   },
   "outputs": [],
   "source": [
    "# we can write over the previous file with mode w (be careful!)\n",
    "path = 'candy.txt'\n",
    "file = open(path,'w')"
   ]
  },
  {
   "cell_type": "code",
   "execution_count": 7,
   "metadata": {
    "collapsed": true
   },
   "outputs": [],
   "source": [
    "! head candy.txt"
   ]
  },
  {
   "cell_type": "code",
   "execution_count": 8,
   "metadata": {
    "collapsed": true
   },
   "outputs": [],
   "source": [
    "# we need to be explicit with our new lines etc.:\n",
    "file.write(\"Snickers\\n\")\n",
    "file.write(\"Twix\\n\")\n",
    "file.write(\"KitKat\\n\")\n",
    "file.close()"
   ]
  },
  {
   "cell_type": "code",
   "execution_count": 9,
   "metadata": {},
   "outputs": [
    {
     "name": "stdout",
     "output_type": "stream",
     "text": [
      "Snickers\r\n",
      "Twix\r\n",
      "KitKat\r\n"
     ]
    }
   ],
   "source": [
    "! head candy.txt"
   ]
  },
  {
   "cell_type": "code",
   "execution_count": 11,
   "metadata": {
    "collapsed": true
   },
   "outputs": [],
   "source": [
    "# reopen the file and write more\n",
    "path = 'candy.txt'\n",
    "file = open(path,'a')\n",
    "file.write(\"Almond Joy\\n\")\n",
    "file.close()"
   ]
  },
  {
   "cell_type": "code",
   "execution_count": 12,
   "metadata": {},
   "outputs": [
    {
     "name": "stdout",
     "output_type": "stream",
     "text": [
      "Snickers\r\n",
      "Twix\r\n",
      "KitKat\r\n",
      "Almond Joy\r\n"
     ]
    }
   ],
   "source": [
    "! head candy.txt"
   ]
  },
  {
   "cell_type": "code",
   "execution_count": 13,
   "metadata": {
    "collapsed": true
   },
   "outputs": [],
   "source": [
    "# now lets read the file\n",
    "openfile = open(path,'r')"
   ]
  },
  {
   "cell_type": "code",
   "execution_count": 14,
   "metadata": {},
   "outputs": [
    {
     "data": {
      "text/plain": [
       "'Snickers\\n'"
      ]
     },
     "execution_count": 14,
     "metadata": {},
     "output_type": "execute_result"
    }
   ],
   "source": [
    "openfile.readline()"
   ]
  },
  {
   "cell_type": "code",
   "execution_count": 15,
   "metadata": {},
   "outputs": [
    {
     "data": {
      "text/plain": [
       "'Twix\\n'"
      ]
     },
     "execution_count": 15,
     "metadata": {},
     "output_type": "execute_result"
    }
   ],
   "source": [
    "openfile.readline()"
   ]
  },
  {
   "cell_type": "code",
   "execution_count": 16,
   "metadata": {},
   "outputs": [
    {
     "data": {
      "text/plain": [
       "'KitKat\\n'"
      ]
     },
     "execution_count": 16,
     "metadata": {},
     "output_type": "execute_result"
    }
   ],
   "source": [
    "openfile.readline()"
   ]
  },
  {
   "cell_type": "code",
   "execution_count": 22,
   "metadata": {},
   "outputs": [
    {
     "data": {
      "text/plain": [
       "'Almond Joy\\n'"
      ]
     },
     "execution_count": 22,
     "metadata": {},
     "output_type": "execute_result"
    }
   ],
   "source": [
    "openfile.readline()"
   ]
  },
  {
   "cell_type": "code",
   "execution_count": 23,
   "metadata": {},
   "outputs": [
    {
     "data": {
      "text/plain": [
       "''"
      ]
     },
     "execution_count": 23,
     "metadata": {},
     "output_type": "execute_result"
    }
   ],
   "source": [
    "openfile.readline()"
   ]
  },
  {
   "cell_type": "code",
   "execution_count": 24,
   "metadata": {
    "collapsed": true
   },
   "outputs": [],
   "source": [
    "openfile.close()"
   ]
  },
  {
   "cell_type": "code",
   "execution_count": 25,
   "metadata": {},
   "outputs": [
    {
     "data": {
      "text/plain": [
       "['Snickers\\n', 'Twix\\n', 'KitKat\\n', 'Almond Joy\\n']"
      ]
     },
     "execution_count": 25,
     "metadata": {},
     "output_type": "execute_result"
    }
   ],
   "source": [
    "openfile = open(path,'r')\n",
    "openfile.readlines()"
   ]
  },
  {
   "cell_type": "markdown",
   "metadata": {},
   "source": [
    "\n"
   ]
  },
  {
   "cell_type": "markdown",
   "metadata": {},
   "source": [
    "# Numpy tools"
   ]
  },
  {
   "cell_type": "code",
   "execution_count": 26,
   "metadata": {
    "collapsed": true
   },
   "outputs": [],
   "source": [
    "import numpy as np\n",
    "data = np.random.randn(100, 3)"
   ]
  },
  {
   "cell_type": "code",
   "execution_count": 27,
   "metadata": {},
   "outputs": [
    {
     "data": {
      "text/plain": [
       "array([[-0.33694416, -0.2321852 ,  0.73272634],\n",
       "       [ 1.28333933,  0.09769118,  0.26826408],\n",
       "       [ 0.95179228, -0.63473531,  0.77753847],\n",
       "       [-0.29106342,  0.51356453,  0.18090896],\n",
       "       [-1.13230135,  0.96475806,  1.1679287 ],\n",
       "       [ 0.37600284,  1.02473407, -0.28972875],\n",
       "       [-0.12398637, -0.88106554, -0.03236838],\n",
       "       [ 0.55671396, -0.3062148 , -0.4853389 ],\n",
       "       [ 0.70551991,  0.66069465,  0.25556418],\n",
       "       [ 0.01700096, -0.14348311,  0.31073241],\n",
       "       [ 0.23604134, -0.5473076 ,  0.7491704 ],\n",
       "       [ 1.28767838, -2.34324807, -0.05068965],\n",
       "       [ 1.64270046,  0.6174843 ,  0.20245567],\n",
       "       [ 0.13894578,  0.85166463, -1.41428592],\n",
       "       [ 0.10912024,  0.06446715, -0.61634612],\n",
       "       [ 0.94933793, -1.94738006, -1.47187523],\n",
       "       [ 0.31375776,  0.09032242, -1.30800142],\n",
       "       [-0.22981505, -1.16174058,  1.46226689],\n",
       "       [ 0.11767741, -0.12423938,  0.67931334],\n",
       "       [-2.37090656,  0.20835512, -1.65548796],\n",
       "       [ 1.0074471 ,  0.3984926 , -0.39055716],\n",
       "       [ 1.87135092, -0.41554879, -1.19913729],\n",
       "       [-1.2432875 ,  0.86703708, -1.32192426],\n",
       "       [-1.10305378,  1.26544307,  0.72812089],\n",
       "       [-0.36703044,  0.85745247,  0.07761547],\n",
       "       [ 0.26802427,  0.13675914,  0.92053887],\n",
       "       [-0.33897164, -0.76691213, -0.43701458],\n",
       "       [-0.21551667, -0.01574134,  0.57128618],\n",
       "       [ 0.59786624, -1.7793307 , -0.24352542],\n",
       "       [ 1.44122085,  0.98348465,  0.02918918],\n",
       "       [ 0.90988888, -0.52994884,  0.13697885],\n",
       "       [ 1.0121685 ,  0.57393893, -0.01679378],\n",
       "       [ 1.46139243,  1.43974994, -0.08035986],\n",
       "       [ 1.46583537,  0.95317802,  0.22743407],\n",
       "       [-0.02171991, -0.3881418 ,  0.17912214],\n",
       "       [-0.06157186,  0.21446416,  0.82723574],\n",
       "       [ 1.69400975,  0.01289072,  0.01031995],\n",
       "       [-0.44524834,  0.23130229,  0.16618101],\n",
       "       [ 1.31758234, -1.12452037, -1.78199901],\n",
       "       [-1.09185451, -0.32135891, -1.39451529],\n",
       "       [-1.39191469, -1.09069224, -1.62651098],\n",
       "       [-0.96551613,  2.00676611, -2.66418821],\n",
       "       [-0.47871271, -2.02586983, -0.39559146],\n",
       "       [-0.92145173,  0.75180617,  0.47446046],\n",
       "       [ 0.41711851,  1.07959233, -0.56440448],\n",
       "       [-1.14663409,  0.84861835,  0.43520648],\n",
       "       [ 0.99716938, -0.60748267, -0.47139072],\n",
       "       [ 0.39520908, -0.80857093, -0.4766696 ],\n",
       "       [ 0.28979022,  1.81382443,  0.71099248],\n",
       "       [-1.11441168, -0.84921881,  0.36902682],\n",
       "       [-0.91378426, -1.54471148,  0.24738654],\n",
       "       [-0.65263076,  0.00598473,  0.63272552],\n",
       "       [ 0.78802602,  0.77994308,  1.64560718],\n",
       "       [-0.17056655,  0.13576506, -1.91828994],\n",
       "       [ 0.32037512, -1.05740882, -0.38983676],\n",
       "       [ 0.73815872, -1.73243742, -0.84727427],\n",
       "       [ 3.11414999,  2.80108952, -1.0315868 ],\n",
       "       [ 0.14546852,  0.35181225, -0.5781691 ],\n",
       "       [-1.88169503,  0.43335455, -0.77443453],\n",
       "       [ 1.26638079,  2.10529343,  0.87472548],\n",
       "       [-0.30763329, -0.25406835, -0.22956522],\n",
       "       [ 0.61470783,  0.01224316, -0.89033604],\n",
       "       [ 2.02621219, -0.26411205, -0.03239282],\n",
       "       [ 0.7793541 ,  0.52279738, -0.51919134],\n",
       "       [-0.07611207, -0.94861348, -1.59619852],\n",
       "       [ 0.15004889,  0.82702287,  0.92459035],\n",
       "       [-0.27937854, -1.84447138,  1.2749553 ],\n",
       "       [ 0.68595746, -0.29803133,  1.21682272],\n",
       "       [-0.09159438, -0.1700516 ,  0.39124416],\n",
       "       [ 1.03418577,  2.27087854, -0.57839839],\n",
       "       [ 0.86051134,  0.33086459,  0.02865414],\n",
       "       [-0.01535019, -1.25985178, -1.56273359],\n",
       "       [-0.21024793,  0.83404003,  1.29030528],\n",
       "       [-1.70352467, -0.16500754,  0.74883863],\n",
       "       [-0.55496392,  0.1820669 ,  0.64743534],\n",
       "       [-0.72593953,  1.43047068,  0.15841358],\n",
       "       [ 0.07446316, -0.3262596 , -0.09494079],\n",
       "       [-0.09145291,  0.0198619 ,  0.35355624],\n",
       "       [ 0.89956592, -0.41347303,  1.33664634],\n",
       "       [-0.30969855, -0.69070292,  1.01602609],\n",
       "       [ 0.10434193, -1.00031738,  0.65071419],\n",
       "       [-0.2926157 ,  1.16026661, -1.94892185],\n",
       "       [ 0.05536433, -0.47175135,  0.2885309 ],\n",
       "       [ 0.1104067 , -0.68589424,  0.77414889],\n",
       "       [-0.07547316,  2.11688391,  1.53409657],\n",
       "       [-1.28260482, -1.92660814,  0.30084441],\n",
       "       [ 1.06731054, -0.14851099,  0.48313385],\n",
       "       [ 1.86451479,  0.01968802, -1.32590071],\n",
       "       [-0.60794432, -1.11708777,  0.30618307],\n",
       "       [-0.68191848, -0.23678322, -1.32258329],\n",
       "       [-1.49557179,  1.28004637,  2.8048597 ],\n",
       "       [ 0.22855167, -1.14631222, -0.74803756],\n",
       "       [ 0.28627894,  0.17483561,  0.53449703],\n",
       "       [-1.07939321,  0.4758306 ,  2.40948209],\n",
       "       [-0.66271077,  0.28995882,  0.35716718],\n",
       "       [ 0.33497626,  0.90523387, -1.49075388],\n",
       "       [-3.02904166, -1.48049215,  0.47013749],\n",
       "       [ 1.16681582, -0.64572644,  0.5948085 ],\n",
       "       [-0.04424003, -0.30555622,  0.60030754],\n",
       "       [-0.44170937,  0.45693074,  1.81914649]])"
      ]
     },
     "execution_count": 27,
     "metadata": {},
     "output_type": "execute_result"
    }
   ],
   "source": [
    "data"
   ]
  },
  {
   "cell_type": "code",
   "execution_count": 28,
   "metadata": {
    "collapsed": true
   },
   "outputs": [],
   "source": [
    "# Numpy savetxt tool\n",
    "np.savetxt(\"data.csv\", data, delimiter=\",\", header=\"x,y,z\", comments=\"# Random x, y, z coordinates\\n\")"
   ]
  },
  {
   "cell_type": "code",
   "execution_count": 29,
   "metadata": {},
   "outputs": [
    {
     "name": "stdout",
     "output_type": "stream",
     "text": [
      "# Random x, y, z coordinates\r\n",
      "x,y,z\r\n",
      "-3.369441605294868913e-01,-2.321851992971336598e-01,7.327263380207629240e-01\r\n",
      "1.283339330551183766e+00,9.769117566894519600e-02,2.682640799130707743e-01\r\n",
      "9.517922760667272275e-01,-6.347353084779719934e-01,7.775384715967080806e-01\r\n",
      "-2.910634202495309686e-01,5.135645281449582322e-01,1.809089628770913227e-01\r\n",
      "-1.132301354443359775e+00,9.647580565414213272e-01,1.167928696355872598e+00\r\n",
      "3.760028386017330027e-01,1.024734067868779519e+00,-2.897287543331412141e-01\r\n",
      "-1.239863723004851065e-01,-8.810655360105564826e-01,-3.236837834172431178e-02\r\n",
      "5.567139604623697613e-01,-3.062147985461022848e-01,-4.853388960429744214e-01\r\n"
     ]
    }
   ],
   "source": [
    "!head data.csv"
   ]
  },
  {
   "cell_type": "code",
   "execution_count": 30,
   "metadata": {
    "collapsed": true
   },
   "outputs": [],
   "source": [
    "data_load = np.loadtxt(\"data.csv\", skiprows=2, delimiter=\",\")"
   ]
  },
  {
   "cell_type": "code",
   "execution_count": 31,
   "metadata": {},
   "outputs": [
    {
     "data": {
      "text/plain": [
       "array([-0.33694416, -0.2321852 ,  0.73272634])"
      ]
     },
     "execution_count": 31,
     "metadata": {},
     "output_type": "execute_result"
    }
   ],
   "source": [
    "data[0]"
   ]
  },
  {
   "cell_type": "code",
   "execution_count": 32,
   "metadata": {},
   "outputs": [
    {
     "data": {
      "text/plain": [
       "array([-0.33694416, -0.2321852 ,  0.73272634])"
      ]
     },
     "execution_count": 32,
     "metadata": {},
     "output_type": "execute_result"
    }
   ],
   "source": [
    "data_load[0]"
   ]
  },
  {
   "cell_type": "markdown",
   "metadata": {},
   "source": [
    "# JavaScript Object Notation (JSON)\n",
    "\n",
    "Open standard fileformat. Human readable and used in many places on the web.\n",
    "\n",
    "{\"name\": \"George\", \"age\": 50, \"Height\": 63, \"Weight\": 190, \"IsMarried\":true}"
   ]
  },
  {
   "cell_type": "markdown",
   "metadata": {},
   "source": [
    "Example from CMS:\n",
    "\n",
    "{\"273158\": [[1, 1279]], \"273302\": [[1, 459]], \"273402\": [[100, 292]], \"273403\": [[1, 53]], \"273404\": [[1, 18]], \"273405\": [[1, 25]], \"273406\": [[1, 112]], \"273408\": [[1, 6]], \"273409\": [[1, 309]], \"273410\": [[1, 90]], \"273411\": [[1, 29]], \"273425\": [[62, 352], [354, 733]], \"273446\": [[1, 33]], \"273447\": [[1, 113], [115, 412]], \"273448\": [[1, 391]], \"273449\": [[1, 214]], \"273450\": [[1, 214], [219, 647]], \"273492\": [[71, 71], [73, 282], [284, 325], [327, 338]], \"273493\": [[1, 233]], \"273494\": [[1, 192]], \"273502\": [[73, 256], [258, 318], [320, 813], [815, 1064]], \"273503\": [[1, 598]], \"273554\": [[77, 437]], \"273555\": [[1, 173]], \"273725\": [[83, 252], [254, 2545]], \"273728\": [[1, 100]], \"273730\": [[1, 1814], [1820, 2126]]}\n",
    "\n",
    "Translation example:\n",
    " \"273450\": [[1, 214], [219, 647]],\n",
    " \n",
    " For run 273450 (a period in which the experiment was taking data) the data which has been certified is in lumisections 1-214 and 219-647).\n",
    "\n",
    "\n",
    "\n",
    "This looks a lot like python dictionary, and the built-in python json encoder/decoder can parse a json file and turn it into a dictionary or vice versa\n",
    "https://docs.python.org/3/library/json.html\n",
    "\n",
    "Some nice JSON examples:\n",
    "http://adobe.github.io/Spry/samples/data_region/JSONDataSetSample.html"
   ]
  },
  {
   "cell_type": "code",
   "execution_count": 2,
   "metadata": {},
   "outputs": [],
   "source": [
    "import json"
   ]
  },
  {
   "cell_type": "code",
   "execution_count": 3,
   "metadata": {},
   "outputs": [],
   "source": [
    "json_string = '{\"name\":\"George\", \"age\": 50, \"Height\": 63, \"Weight\": 190, \"IsMarried\":true, \"Preferences\": [5,28] }'"
   ]
  },
  {
   "cell_type": "code",
   "execution_count": 4,
   "metadata": {},
   "outputs": [],
   "source": [
    "# Parse the JSON (Decode) and turn it into a dictionary using json.loads\n",
    "json_parsed = json.loads(json_string)"
   ]
  },
  {
   "cell_type": "code",
   "execution_count": 5,
   "metadata": {},
   "outputs": [
    {
     "data": {
      "text/plain": [
       "dict"
      ]
     },
     "execution_count": 5,
     "metadata": {},
     "output_type": "execute_result"
    }
   ],
   "source": [
    "type(json_parsed)"
   ]
  },
  {
   "cell_type": "code",
   "execution_count": 6,
   "metadata": {},
   "outputs": [
    {
     "data": {
      "text/plain": [
       "{'name': 'George',\n",
       " 'age': 50,\n",
       " 'Height': 63,\n",
       " 'Weight': 190,\n",
       " 'IsMarried': True,\n",
       " 'Preferences': [5, 28]}"
      ]
     },
     "execution_count": 6,
     "metadata": {},
     "output_type": "execute_result"
    }
   ],
   "source": [
    "json_parsed"
   ]
  },
  {
   "cell_type": "code",
   "execution_count": 7,
   "metadata": {},
   "outputs": [
    {
     "data": {
      "text/plain": [
       "'George'"
      ]
     },
     "execution_count": 7,
     "metadata": {},
     "output_type": "execute_result"
    }
   ],
   "source": [
    "json_parsed[\"name\"]"
   ]
  },
  {
   "cell_type": "code",
   "execution_count": 8,
   "metadata": {},
   "outputs": [
    {
     "data": {
      "text/plain": [
       "190"
      ]
     },
     "execution_count": 8,
     "metadata": {},
     "output_type": "execute_result"
    }
   ],
   "source": [
    "json_parsed[\"Weight\"]"
   ]
  },
  {
   "cell_type": "code",
   "execution_count": 9,
   "metadata": {},
   "outputs": [
    {
     "data": {
      "text/plain": [
       "True"
      ]
     },
     "execution_count": 9,
     "metadata": {},
     "output_type": "execute_result"
    }
   ],
   "source": [
    "json_parsed[\"IsMarried\"]"
   ]
  },
  {
   "cell_type": "code",
   "execution_count": 10,
   "metadata": {},
   "outputs": [
    {
     "data": {
      "text/plain": [
       "bool"
      ]
     },
     "execution_count": 10,
     "metadata": {},
     "output_type": "execute_result"
    }
   ],
   "source": [
    "type(json_parsed[\"IsMarried\"])"
   ]
  },
  {
   "cell_type": "code",
   "execution_count": 11,
   "metadata": {},
   "outputs": [
    {
     "data": {
      "text/plain": [
       "[5, 28]"
      ]
     },
     "execution_count": 11,
     "metadata": {},
     "output_type": "execute_result"
    }
   ],
   "source": [
    "json_parsed[\"Preferences\"]"
   ]
  },
  {
   "cell_type": "code",
   "execution_count": 12,
   "metadata": {},
   "outputs": [
    {
     "data": {
      "text/plain": [
       "list"
      ]
     },
     "execution_count": 12,
     "metadata": {},
     "output_type": "execute_result"
    }
   ],
   "source": [
    "type(json_parsed[\"Preferences\"])"
   ]
  },
  {
   "cell_type": "code",
   "execution_count": 44,
   "metadata": {
    "collapsed": true
   },
   "outputs": [],
   "source": []
  },
  {
   "cell_type": "code",
   "execution_count": 13,
   "metadata": {},
   "outputs": [],
   "source": [
    "# Convert a python dictionary into a JSON string\n",
    "# json.dumps (dictionary->json)\n",
    "python_dictionary = {'name':'George', 'age':50, 'IsMarried':True, 'Weight': 190}\n",
    "json_new = json.dumps(python_dictionary)"
   ]
  },
  {
   "cell_type": "code",
   "execution_count": 14,
   "metadata": {},
   "outputs": [
    {
     "name": "stdout",
     "output_type": "stream",
     "text": [
      "{\"name\": \"George\", \"age\": 50, \"IsMarried\": true, \"Weight\": 190}\n"
     ]
    }
   ],
   "source": [
    "print(json_new)"
   ]
  },
  {
   "cell_type": "code",
   "execution_count": 15,
   "metadata": {},
   "outputs": [
    {
     "data": {
      "text/plain": [
       "str"
      ]
     },
     "execution_count": 15,
     "metadata": {},
     "output_type": "execute_result"
    }
   ],
   "source": [
    "type(json_new)"
   ]
  },
  {
   "cell_type": "code",
   "execution_count": null,
   "metadata": {
    "collapsed": true
   },
   "outputs": [],
   "source": []
  },
  {
   "cell_type": "code",
   "execution_count": null,
   "metadata": {
    "collapsed": true
   },
   "outputs": [],
   "source": []
  },
  {
   "cell_type": "markdown",
   "metadata": {},
   "source": [
    "# Hierarchical Data Format (HDF5) \n",
    "\n",
    "python libraries which can handle HDF5 files: \"h5py\" and \"PyTables\"\n",
    "\n",
    "HDF5 is not unique to python but these libraries provide a nice interface\n",
    "\n",
    "## h5py"
   ]
  },
  {
   "cell_type": "code",
   "execution_count": 16,
   "metadata": {},
   "outputs": [],
   "source": [
    "import h5py\n",
    "import numpy as np"
   ]
  },
  {
   "cell_type": "code",
   "execution_count": 17,
   "metadata": {},
   "outputs": [],
   "source": [
    "# CREATE A NEW FILE\n",
    "#    r  Readonly, file must exist\n",
    "#    r+ Read/write, file must exist\n",
    "#    w  Create file, truncate if exists\n",
    "#    w- or x Create file, fail if exists\n",
    "#    a  Read/write if exists, create otherwise (default)\n",
    "f = h5py.File(\"testfile4.hdf5\", \"x\")"
   ]
  },
  {
   "cell_type": "code",
   "execution_count": 18,
   "metadata": {},
   "outputs": [
    {
     "data": {
      "text/plain": [
       "'r+'"
      ]
     },
     "execution_count": 18,
     "metadata": {},
     "output_type": "execute_result"
    }
   ],
   "source": [
    "f.mode"
   ]
  },
  {
   "cell_type": "code",
   "execution_count": null,
   "metadata": {
    "collapsed": true
   },
   "outputs": [],
   "source": []
  },
  {
   "cell_type": "markdown",
   "metadata": {},
   "source": [
    "### \"HDF5 Dataset\"\n",
    "* A collection of data elements (similar to NumPy arrays)(you can use slicing)\n",
    "* immutable (they can't be changed)\n",
    "* They support storage features such as compression, error detection, and chunked I/O\n",
    "\n",
    "http://docs.h5py.org/en/latest/high/dataset.html"
   ]
  },
  {
   "cell_type": "code",
   "execution_count": 19,
   "metadata": {},
   "outputs": [],
   "source": [
    "# object_name = file_name.create_dataset(\n",
    "#        \"data_set_name\", \n",
    "#        shape (just like numpy arrays - tuple with sets the array dimensions)\n",
    "#        dtype (datatype) (default value = float)\n",
    "#      ) \n",
    "\n",
    "dset = f.create_dataset(\"example_dataset\", (100,), dtype='i')"
   ]
  },
  {
   "cell_type": "code",
   "execution_count": 20,
   "metadata": {},
   "outputs": [
    {
     "data": {
      "text/plain": [
       "(100,)"
      ]
     },
     "execution_count": 20,
     "metadata": {},
     "output_type": "execute_result"
    }
   ],
   "source": [
    "dset.shape"
   ]
  },
  {
   "cell_type": "code",
   "execution_count": 21,
   "metadata": {},
   "outputs": [
    {
     "data": {
      "text/plain": [
       "dtype('int32')"
      ]
     },
     "execution_count": 21,
     "metadata": {},
     "output_type": "execute_result"
    }
   ],
   "source": [
    "dset.dtype"
   ]
  },
  {
   "cell_type": "code",
   "execution_count": 22,
   "metadata": {},
   "outputs": [],
   "source": [
    "# set the dataset entries equal to a numpy array\n",
    "#   note the ... syntax (ellipsis) \n",
    "#     -> select any unspecified entries\n",
    "dset[...] = np.arange(100)  "
   ]
  },
  {
   "cell_type": "code",
   "execution_count": 23,
   "metadata": {},
   "outputs": [
    {
     "data": {
      "text/plain": [
       "0"
      ]
     },
     "execution_count": 23,
     "metadata": {},
     "output_type": "execute_result"
    }
   ],
   "source": [
    "dset[0]"
   ]
  },
  {
   "cell_type": "code",
   "execution_count": 24,
   "metadata": {},
   "outputs": [
    {
     "data": {
      "text/plain": [
       "10"
      ]
     },
     "execution_count": 24,
     "metadata": {},
     "output_type": "execute_result"
    }
   ],
   "source": [
    "dset[10]"
   ]
  },
  {
   "cell_type": "code",
   "execution_count": 25,
   "metadata": {},
   "outputs": [
    {
     "data": {
      "text/plain": [
       "array([ 0, 10, 20, 30, 40, 50, 60, 70, 80, 90], dtype=int32)"
      ]
     },
     "execution_count": 25,
     "metadata": {},
     "output_type": "execute_result"
    }
   ],
   "source": [
    "dset[0:100:10]"
   ]
  },
  {
   "cell_type": "markdown",
   "metadata": {},
   "source": [
    "### \"HDF5 Group\"\n",
    "\n",
    "A group is a containter used to organize HDF5 files. Within python thay are somewhat like dictionaries (they have \"keys\" and \"values\")\n",
    "\n",
    "When we created a file earlier we also created a the \"root group\". This is similar to the root directory on your computer."
   ]
  },
  {
   "cell_type": "markdown",
   "metadata": {},
   "source": [
    "Every object in an HDF5 file has a name and they are accessible through a typical file format hierarchy (\"/root/stuff1/stuff1a/etc.\")"
   ]
  },
  {
   "cell_type": "code",
   "execution_count": 26,
   "metadata": {},
   "outputs": [
    {
     "data": {
      "text/plain": [
       "'/'"
      ]
     },
     "execution_count": 26,
     "metadata": {},
     "output_type": "execute_result"
    }
   ],
   "source": [
    "f.name"
   ]
  },
  {
   "cell_type": "code",
   "execution_count": 27,
   "metadata": {},
   "outputs": [
    {
     "data": {
      "text/plain": [
       "<KeysViewHDF5 ['example_dataset']>"
      ]
     },
     "execution_count": 27,
     "metadata": {},
     "output_type": "execute_result"
    }
   ],
   "source": [
    "f.keys()"
   ]
  },
  {
   "cell_type": "code",
   "execution_count": 28,
   "metadata": {},
   "outputs": [],
   "source": [
    "# create a new group\n",
    "grp = f.create_group(\"GroupA\")"
   ]
  },
  {
   "cell_type": "code",
   "execution_count": 29,
   "metadata": {},
   "outputs": [
    {
     "data": {
      "text/plain": [
       "'/GroupA'"
      ]
     },
     "execution_count": 29,
     "metadata": {},
     "output_type": "execute_result"
    }
   ],
   "source": [
    "grp.name"
   ]
  },
  {
   "cell_type": "code",
   "execution_count": 30,
   "metadata": {},
   "outputs": [
    {
     "data": {
      "text/plain": [
       "'/GroupB'"
      ]
     },
     "execution_count": 30,
     "metadata": {},
     "output_type": "execute_result"
    }
   ],
   "source": [
    "grp2 = f.create_group(\"GroupB\")\n",
    "grp2.name"
   ]
  },
  {
   "cell_type": "code",
   "execution_count": 31,
   "metadata": {},
   "outputs": [],
   "source": [
    "subgrp = grp.create_group(\"GroupA1\")"
   ]
  },
  {
   "cell_type": "code",
   "execution_count": 32,
   "metadata": {},
   "outputs": [
    {
     "data": {
      "text/plain": [
       "'/GroupA/GroupA1'"
      ]
     },
     "execution_count": 32,
     "metadata": {},
     "output_type": "execute_result"
    }
   ],
   "source": [
    "subgrp.name"
   ]
  },
  {
   "cell_type": "code",
   "execution_count": 33,
   "metadata": {},
   "outputs": [],
   "source": [
    "subsubgrp = subgrp.create_group(\"GroupA1a\")"
   ]
  },
  {
   "cell_type": "code",
   "execution_count": 34,
   "metadata": {},
   "outputs": [
    {
     "data": {
      "text/plain": [
       "'/GroupA/GroupA1/GroupA1a'"
      ]
     },
     "execution_count": 34,
     "metadata": {},
     "output_type": "execute_result"
    }
   ],
   "source": [
    "subsubgrp.name"
   ]
  },
  {
   "cell_type": "code",
   "execution_count": 35,
   "metadata": {},
   "outputs": [],
   "source": [
    "subsubgrp1 = f.create_group(\"/GroupA/GroupA1/GroupA1b\")"
   ]
  },
  {
   "cell_type": "code",
   "execution_count": 36,
   "metadata": {},
   "outputs": [
    {
     "data": {
      "text/plain": [
       "'/GroupA/GroupA1/GroupA1b'"
      ]
     },
     "execution_count": 36,
     "metadata": {},
     "output_type": "execute_result"
    }
   ],
   "source": [
    "subsubgrp1.name"
   ]
  },
  {
   "cell_type": "markdown",
   "metadata": {},
   "source": [
    "### Combining groups and datasets"
   ]
  },
  {
   "cell_type": "code",
   "execution_count": 37,
   "metadata": {},
   "outputs": [
    {
     "data": {
      "text/plain": [
       "'/GroupA/dataset_two'"
      ]
     },
     "execution_count": 37,
     "metadata": {},
     "output_type": "execute_result"
    }
   ],
   "source": [
    "dset2 = grp.create_dataset(\"dataset_two\", (50,), dtype='f')\n",
    "dset2.name"
   ]
  },
  {
   "cell_type": "code",
   "execution_count": 38,
   "metadata": {},
   "outputs": [
    {
     "data": {
      "text/plain": [
       "'/GroupA/GroupA1/dataset_three'"
      ]
     },
     "execution_count": 38,
     "metadata": {},
     "output_type": "execute_result"
    }
   ],
   "source": [
    "dset3 = f.create_dataset('GroupA/GroupA1/dataset_three', (10,), dtype='i')\n",
    "dset3.name"
   ]
  },
  {
   "cell_type": "code",
   "execution_count": 39,
   "metadata": {},
   "outputs": [],
   "source": [
    "dset3[...] = np.arange(10)  "
   ]
  },
  {
   "cell_type": "code",
   "execution_count": 40,
   "metadata": {
    "scrolled": true
   },
   "outputs": [
    {
     "name": "stdout",
     "output_type": "stream",
     "text": [
      "GroupA\n",
      "GroupB\n",
      "example_dataset\n"
     ]
    }
   ],
   "source": [
    "# Iterate over the direct group members (no sudirectories)\n",
    "for name in f:\n",
    "    print(name)"
   ]
  },
  {
   "cell_type": "code",
   "execution_count": 41,
   "metadata": {},
   "outputs": [
    {
     "name": "stdout",
     "output_type": "stream",
     "text": [
      "GroupA1\n",
      "dataset_two\n"
     ]
    }
   ],
   "source": [
    "for name in grp:\n",
    "    print(name)"
   ]
  },
  {
   "cell_type": "code",
   "execution_count": 42,
   "metadata": {},
   "outputs": [
    {
     "name": "stdout",
     "output_type": "stream",
     "text": [
      "GroupA1a\n",
      "GroupA1b\n",
      "dataset_three\n"
     ]
    }
   ],
   "source": [
    "for name in subgrp:\n",
    "    print(name)"
   ]
  },
  {
   "cell_type": "code",
   "execution_count": 43,
   "metadata": {},
   "outputs": [],
   "source": [
    "def printfunc(name):\n",
    "   print(name)"
   ]
  },
  {
   "cell_type": "code",
   "execution_count": 44,
   "metadata": {},
   "outputs": [
    {
     "name": "stdout",
     "output_type": "stream",
     "text": [
      "GroupA\n",
      "GroupA/GroupA1\n",
      "GroupA/GroupA1/GroupA1a\n",
      "GroupA/GroupA1/GroupA1b\n",
      "GroupA/GroupA1/dataset_three\n",
      "GroupA/dataset_two\n",
      "GroupB\n",
      "example_dataset\n"
     ]
    }
   ],
   "source": [
    "f.visit(printfunc)"
   ]
  },
  {
   "cell_type": "code",
   "execution_count": 45,
   "metadata": {},
   "outputs": [
    {
     "name": "stdout",
     "output_type": "stream",
     "text": [
      "GroupA\n",
      "GroupA/GroupA1\n",
      "GroupA/GroupA1/GroupA1a\n",
      "GroupA/GroupA1/GroupA1b\n",
      "GroupA/GroupA1/dataset_three\n",
      "GroupA/dataset_two\n",
      "GroupB\n",
      "example_dataset\n"
     ]
    }
   ],
   "source": [
    "# lambda function is a one line funcition with no name \n",
    "#   Normal python function\n",
    "#    def function_name(x):\n",
    "#     return x**2\n",
    "#   Lambda function \n",
    "#    lambda x: x**2\n",
    "f.visit(lambda x: print(x))"
   ]
  },
  {
   "cell_type": "code",
   "execution_count": 46,
   "metadata": {},
   "outputs": [
    {
     "data": {
      "text/plain": [
       "h5py._hl.dataset.Dataset"
      ]
     },
     "execution_count": 46,
     "metadata": {},
     "output_type": "execute_result"
    }
   ],
   "source": [
    "# you can access data with a dictionary type syntax\n",
    "type(f[\"GroupA/GroupA1/dataset_three\"])"
   ]
  },
  {
   "cell_type": "code",
   "execution_count": 47,
   "metadata": {},
   "outputs": [
    {
     "data": {
      "text/plain": [
       "h5py._hl.group.Group"
      ]
     },
     "execution_count": 47,
     "metadata": {},
     "output_type": "execute_result"
    }
   ],
   "source": [
    "type(f[\"GroupA/GroupA1/GroupA1a\"])"
   ]
  },
  {
   "cell_type": "code",
   "execution_count": 48,
   "metadata": {},
   "outputs": [],
   "source": [
    "datanow = f[\"GroupA/GroupA1/dataset_three\"]"
   ]
  },
  {
   "cell_type": "code",
   "execution_count": 49,
   "metadata": {},
   "outputs": [
    {
     "data": {
      "text/plain": [
       "4"
      ]
     },
     "execution_count": 49,
     "metadata": {},
     "output_type": "execute_result"
    }
   ],
   "source": [
    "datanow[4]"
   ]
  },
  {
   "cell_type": "code",
   "execution_count": 50,
   "metadata": {},
   "outputs": [
    {
     "data": {
      "text/plain": [
       "['GroupA', 'GroupB', 'example_dataset']"
      ]
     },
     "execution_count": 50,
     "metadata": {},
     "output_type": "execute_result"
    }
   ],
   "source": [
    "list(f.keys())"
   ]
  },
  {
   "cell_type": "code",
   "execution_count": 51,
   "metadata": {},
   "outputs": [
    {
     "data": {
      "text/plain": [
       "[('GroupA', <HDF5 group \"/GroupA\" (2 members)>),\n",
       " ('GroupB', <HDF5 group \"/GroupB\" (0 members)>),\n",
       " ('example_dataset',\n",
       "  <HDF5 dataset \"example_dataset\": shape (100,), type \"<i4\">)]"
      ]
     },
     "execution_count": 51,
     "metadata": {},
     "output_type": "execute_result"
    }
   ],
   "source": [
    "list(f.items())"
   ]
  },
  {
   "cell_type": "markdown",
   "metadata": {},
   "source": [
    "### Attributes\n",
    "\n",
    "Attach metadata to each dataset"
   ]
  },
  {
   "cell_type": "code",
   "execution_count": 52,
   "metadata": {},
   "outputs": [
    {
     "data": {
      "text/plain": [
       "<Attributes of HDF5 object at 140220148271280>"
      ]
     },
     "execution_count": 52,
     "metadata": {},
     "output_type": "execute_result"
    }
   ],
   "source": [
    "dset3.attrs"
   ]
  },
  {
   "cell_type": "code",
   "execution_count": 53,
   "metadata": {},
   "outputs": [],
   "source": [
    "dset3.attrs['measurement'] = 'temperature'"
   ]
  },
  {
   "cell_type": "code",
   "execution_count": 54,
   "metadata": {},
   "outputs": [],
   "source": [
    "dset3.attrs['unit'] = 'celsius'"
   ]
  },
  {
   "cell_type": "code",
   "execution_count": 55,
   "metadata": {},
   "outputs": [
    {
     "data": {
      "text/plain": [
       "['measurement', 'unit']"
      ]
     },
     "execution_count": 55,
     "metadata": {},
     "output_type": "execute_result"
    }
   ],
   "source": [
    "list(dset3.attrs.keys())"
   ]
  },
  {
   "cell_type": "code",
   "execution_count": null,
   "metadata": {
    "collapsed": true
   },
   "outputs": [],
   "source": []
  },
  {
   "cell_type": "markdown",
   "metadata": {
    "collapsed": true
   },
   "source": [
    "## Another method to work with HDF5 files with python: PyTables\n",
    "\n",
    "\n",
    "open_file\n",
    "\n",
    "r  Read-only—no data can be modified.\n",
    "\n",
    "w Write—a new file is created; if a file with that name exists, it is deleted.\n",
    "\n",
    "a Append—an existing file is opened for reading and writing, or if the file does not exist, it is created.\n",
    "\n",
    "r+ Similar to a, but the file must already exist."
   ]
  },
  {
   "cell_type": "code",
   "execution_count": 56,
   "metadata": {},
   "outputs": [],
   "source": [
    "import tables as tb\n",
    "ft = tb.open_file('mypytable3', 'a')"
   ]
  },
  {
   "cell_type": "code",
   "execution_count": 57,
   "metadata": {},
   "outputs": [
    {
     "data": {
      "text/plain": [
       "/ (RootGroup) ''\n",
       "  children := []"
      ]
     },
     "execution_count": 57,
     "metadata": {},
     "output_type": "execute_result"
    }
   ],
   "source": [
    "ft.root #different than h5py"
   ]
  },
  {
   "cell_type": "code",
   "execution_count": 58,
   "metadata": {},
   "outputs": [
    {
     "data": {
      "text/plain": [
       "/GroupA (Group) 'My Group A'\n",
       "  children := []"
      ]
     },
     "execution_count": 58,
     "metadata": {},
     "output_type": "execute_result"
    }
   ],
   "source": [
    "ft.create_group('/', 'GroupA', \"My Group A\")"
   ]
  },
  {
   "cell_type": "code",
   "execution_count": 59,
   "metadata": {},
   "outputs": [
    {
     "data": {
      "text/plain": [
       "/GroupA (Group) 'My Group A'\n",
       "  children := []"
      ]
     },
     "execution_count": 59,
     "metadata": {},
     "output_type": "execute_result"
    }
   ],
   "source": [
    "ft.root.GroupA"
   ]
  },
  {
   "cell_type": "code",
   "execution_count": 60,
   "metadata": {},
   "outputs": [
    {
     "data": {
      "text/plain": [
       "/GroupA/CompetitorNumbers (Array(4,)) ''\n",
       "  atom := Int64Atom(shape=(), dflt=0)\n",
       "  maindim := 0\n",
       "  flavor := 'python'\n",
       "  byteorder := 'little'\n",
       "  chunkshape := None"
      ]
     },
     "execution_count": 60,
     "metadata": {},
     "output_type": "execute_result"
    }
   ],
   "source": [
    "# specialized array and table functions for datasets\n",
    "# http://www.pytables.org/usersguide/libref/homogenous_storage.html\n",
    "ft.create_array('/GroupA', 'CompetitorNumbers', [1, 2, 5, 3])"
   ]
  },
  {
   "cell_type": "code",
   "execution_count": 61,
   "metadata": {},
   "outputs": [
    {
     "data": {
      "text/plain": [
       "/GroupA/Time (Array(7,)) ''\n",
       "  atom := Float64Atom(shape=(), dflt=0.0)\n",
       "  maindim := 0\n",
       "  flavor := 'numpy'\n",
       "  byteorder := 'little'\n",
       "  chunkshape := None"
      ]
     },
     "execution_count": 61,
     "metadata": {},
     "output_type": "execute_result"
    }
   ],
   "source": [
    "myarray = np.random.rand(7)\n",
    "ft.create_array('/GroupA', 'Time', myarray)"
   ]
  },
  {
   "cell_type": "code",
   "execution_count": 62,
   "metadata": {},
   "outputs": [
    {
     "data": {
      "text/plain": [
       "[1, 2, 5, 3]"
      ]
     },
     "execution_count": 62,
     "metadata": {},
     "output_type": "execute_result"
    }
   ],
   "source": [
    "# Get the data from the file\n",
    "ft.root.GroupA.CompetitorNumbers[:]"
   ]
  },
  {
   "cell_type": "code",
   "execution_count": 63,
   "metadata": {},
   "outputs": [
    {
     "data": {
      "text/plain": [
       "list"
      ]
     },
     "execution_count": 63,
     "metadata": {},
     "output_type": "execute_result"
    }
   ],
   "source": [
    "type(ft.root.GroupA.CompetitorNumbers[:])"
   ]
  },
  {
   "cell_type": "code",
   "execution_count": 64,
   "metadata": {},
   "outputs": [
    {
     "data": {
      "text/plain": [
       "tables.array.Array"
      ]
     },
     "execution_count": 64,
     "metadata": {},
     "output_type": "execute_result"
    }
   ],
   "source": [
    "type(ft.root.GroupA.CompetitorNumbers)"
   ]
  },
  {
   "cell_type": "code",
   "execution_count": 65,
   "metadata": {},
   "outputs": [
    {
     "data": {
      "text/plain": [
       "array([0.62210425, 0.53811571, 0.01725738, 0.03681912, 0.11785259,\n",
       "       0.96287604, 0.24506062])"
      ]
     },
     "execution_count": 65,
     "metadata": {},
     "output_type": "execute_result"
    }
   ],
   "source": [
    "ft.root.GroupA.Time[:]"
   ]
  },
  {
   "cell_type": "code",
   "execution_count": 66,
   "metadata": {},
   "outputs": [
    {
     "data": {
      "text/plain": [
       "numpy.ndarray"
      ]
     },
     "execution_count": 66,
     "metadata": {},
     "output_type": "execute_result"
    }
   ],
   "source": [
    "#datatype is preserved\n",
    "type(ft.root.GroupA.Time[:])"
   ]
  },
  {
   "cell_type": "code",
   "execution_count": 67,
   "metadata": {},
   "outputs": [
    {
     "data": {
      "text/plain": [
       "tables.array.Array"
      ]
     },
     "execution_count": 67,
     "metadata": {},
     "output_type": "execute_result"
    }
   ],
   "source": [
    "type(ft.root.GroupA.Time)"
   ]
  },
  {
   "cell_type": "markdown",
   "metadata": {},
   "source": [
    "Note: You need to slice the data in order to use it. We have created a hdf5 file which lives on disk. In order to access the stored data you need to slice the dataset such that you move the data to local memory. hdf5 alllow you to use much bigger datasets than standalone numpy."
   ]
  },
  {
   "cell_type": "code",
   "execution_count": null,
   "metadata": {
    "collapsed": true
   },
   "outputs": [],
   "source": []
  },
  {
   "cell_type": "code",
   "execution_count": null,
   "metadata": {
    "collapsed": true
   },
   "outputs": [],
   "source": []
  },
  {
   "cell_type": "markdown",
   "metadata": {},
   "source": [
    "# Pickle"
   ]
  },
  {
   "cell_type": "code",
   "execution_count": 68,
   "metadata": {},
   "outputs": [],
   "source": [
    "mydata = {\"name\":\"George\", \"age\": 50, \"Height\": 63, \"Weight\": 190, \"IsMarried\":True, \"Preferences\": [5,28] }"
   ]
  },
  {
   "cell_type": "code",
   "execution_count": 69,
   "metadata": {},
   "outputs": [
    {
     "data": {
      "text/plain": [
       "dict"
      ]
     },
     "execution_count": 69,
     "metadata": {},
     "output_type": "execute_result"
    }
   ],
   "source": [
    "type(mydata)"
   ]
  },
  {
   "cell_type": "code",
   "execution_count": 70,
   "metadata": {},
   "outputs": [
    {
     "data": {
      "text/plain": [
       "{'name': 'George',\n",
       " 'age': 50,\n",
       " 'Height': 63,\n",
       " 'Weight': 190,\n",
       " 'IsMarried': True,\n",
       " 'Preferences': [5, 28]}"
      ]
     },
     "execution_count": 70,
     "metadata": {},
     "output_type": "execute_result"
    }
   ],
   "source": [
    "mydata"
   ]
  },
  {
   "cell_type": "code",
   "execution_count": 71,
   "metadata": {},
   "outputs": [],
   "source": [
    "import pickle"
   ]
  },
  {
   "cell_type": "code",
   "execution_count": 72,
   "metadata": {},
   "outputs": [],
   "source": [
    "# save this dictionary in a pickle file\n",
    "pickle.dump( mydata, open( \"mypicklefile.p\", \"wb\" ) )"
   ]
  },
  {
   "cell_type": "code",
   "execution_count": 73,
   "metadata": {},
   "outputs": [
    {
     "name": "stdout",
     "output_type": "stream",
     "text": [
      "�\u0004�V\u0000\u0000\u0000\u0000\u0000\u0000\u0000}�(�\u0004name��\u0006George��\u0003age�K2�\u0006Height�K?�\u0006Weight�K��\tIsMarried���\u000b",
      "Preferences�]�(K\u0005K\u001c",
      "eu."
     ]
    }
   ],
   "source": [
    "!head mypicklefile.p"
   ]
  },
  {
   "cell_type": "markdown",
   "metadata": {},
   "source": [
    "The data in this dictionary (which we could be much more complex than this example) has been converted into some byte stream (the dictionary has been \"pickled\" (ie. \"serialized\" or \"flattened\")"
   ]
  },
  {
   "cell_type": "code",
   "execution_count": 74,
   "metadata": {},
   "outputs": [],
   "source": [
    "# read a pickle (unpickle the data)\n",
    "getthedata = pickle.load( open( \"mypicklefile.p\", \"rb\" ) )"
   ]
  },
  {
   "cell_type": "code",
   "execution_count": 75,
   "metadata": {},
   "outputs": [
    {
     "data": {
      "text/plain": [
       "dict"
      ]
     },
     "execution_count": 75,
     "metadata": {},
     "output_type": "execute_result"
    }
   ],
   "source": [
    "type(getthedata)"
   ]
  },
  {
   "cell_type": "code",
   "execution_count": 76,
   "metadata": {},
   "outputs": [
    {
     "data": {
      "text/plain": [
       "{'name': 'George',\n",
       " 'age': 50,\n",
       " 'Height': 63,\n",
       " 'Weight': 190,\n",
       " 'IsMarried': True,\n",
       " 'Preferences': [5, 28]}"
      ]
     },
     "execution_count": 76,
     "metadata": {},
     "output_type": "execute_result"
    }
   ],
   "source": [
    "getthedata"
   ]
  },
  {
   "cell_type": "markdown",
   "metadata": {},
   "source": [
    "Instead of storing the data in a file, pickle converts python objects into serial data which can be saved in a file."
   ]
  },
  {
   "cell_type": "code",
   "execution_count": 77,
   "metadata": {},
   "outputs": [],
   "source": [
    "def square(x):\n",
    "    return x*x"
   ]
  },
  {
   "cell_type": "code",
   "execution_count": 78,
   "metadata": {},
   "outputs": [
    {
     "data": {
      "text/plain": [
       "9"
      ]
     },
     "execution_count": 78,
     "metadata": {},
     "output_type": "execute_result"
    }
   ],
   "source": [
    "square(3)"
   ]
  },
  {
   "cell_type": "code",
   "execution_count": 79,
   "metadata": {},
   "outputs": [],
   "source": [
    "pickle.dump( square, open( \"mypicklefile2.p\", \"wb\" ) )"
   ]
  },
  {
   "cell_type": "code",
   "execution_count": 80,
   "metadata": {},
   "outputs": [],
   "source": [
    "getthedata2 = pickle.load( open( \"mypicklefile2.p\", \"rb\" ) )"
   ]
  },
  {
   "cell_type": "code",
   "execution_count": 81,
   "metadata": {},
   "outputs": [
    {
     "data": {
      "text/plain": [
       "16"
      ]
     },
     "execution_count": 81,
     "metadata": {},
     "output_type": "execute_result"
    }
   ],
   "source": [
    "getthedata2(4)"
   ]
  },
  {
   "cell_type": "code",
   "execution_count": 82,
   "metadata": {},
   "outputs": [
    {
     "data": {
      "text/plain": [
       "function"
      ]
     },
     "execution_count": 82,
     "metadata": {},
     "output_type": "execute_result"
    }
   ],
   "source": [
    "type(getthedata2)"
   ]
  },
  {
   "cell_type": "markdown",
   "metadata": {},
   "source": [
    "You can save functions or other objects and send them along with your data to a colleague."
   ]
  },
  {
   "cell_type": "markdown",
   "metadata": {},
   "source": [
    "# One more file format: ROOT (pyROOT)\n",
    "\n",
    "We won't spend time on this now, but some fields require a more nested file format (a \"tree\" format)\n",
    "\n",
    "https://root.cern/manual/root_files/\n",
    "\n",
    "https://root.cern/manual/trees/\n",
    "\n",
    "Interesting discussion on why ROOT developed separately:\n",
    "\n",
    "https://www.youtube.com/watch?v=mB4Chl0ly-g\n",
    "\n",
    "https://www.youtube.com/watch?v=jvt4v2LTGK0\n"
   ]
  },
  {
   "cell_type": "code",
   "execution_count": null,
   "metadata": {
    "collapsed": true
   },
   "outputs": [],
   "source": []
  }
 ],
 "metadata": {
  "kernelspec": {
   "display_name": "Python 3",
   "language": "python",
   "name": "python3"
  },
  "language_info": {
   "codemirror_mode": {
    "name": "ipython",
    "version": 3
   },
   "file_extension": ".py",
   "mimetype": "text/x-python",
   "name": "python",
   "nbconvert_exporter": "python",
   "pygments_lexer": "ipython3",
   "version": "3.8.8"
  }
 },
 "nbformat": 4,
 "nbformat_minor": 2
}
