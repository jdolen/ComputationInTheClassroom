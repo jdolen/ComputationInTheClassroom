{
 "cells": [
  {
   "cell_type": "code",
   "execution_count": 1,
   "id": "43ee25b6",
   "metadata": {},
   "outputs": [],
   "source": [
    "import numpy as np\n",
    "import matplotlib.pyplot as plt"
   ]
  },
  {
   "cell_type": "code",
   "execution_count": 2,
   "id": "7c009d35",
   "metadata": {},
   "outputs": [],
   "source": [
    "def f(x):\n",
    "    return x**4 - 2*x +1"
   ]
  },
  {
   "cell_type": "code",
   "execution_count": 3,
   "id": "3747adfa",
   "metadata": {},
   "outputs": [],
   "source": [
    "integral_true = 4.4"
   ]
  },
  {
   "cell_type": "code",
   "execution_count": 4,
   "id": "ab130067",
   "metadata": {},
   "outputs": [
    {
     "name": "stdout",
     "output_type": "stream",
     "text": [
      "Step size  0.2\n"
     ]
    }
   ],
   "source": [
    "# Define parameters for numerical integration\n",
    "N = 10  # Number of slices\n",
    "a = 0.0 # Lower bound\n",
    "b = 2.0 # Upper bound\n",
    "w = (b-a)/N # Step size\n",
    "print(\"Step size \",w)"
   ]
  },
  {
   "cell_type": "markdown",
   "id": "b3cc7032",
   "metadata": {},
   "source": [
    "Lets define the midpoint and trapezoid methods just as we did last time."
   ]
  },
  {
   "cell_type": "code",
   "execution_count": 27,
   "id": "875af4fa",
   "metadata": {},
   "outputs": [],
   "source": [
    "def integral_midpoint(f,N,a,b):\n",
    "\n",
    "    # Step size\n",
    "    w = (b-a)/N \n",
    "\n",
    "    # Create an array entry for each step \n",
    "    x = np.linspace(a+w/2, b+w/2, N, endpoint = False)\n",
    "\n",
    "    # Calculate numerical integral\n",
    "    s=0 \n",
    "    for k in x:\n",
    "        s+= f(k)*w\n",
    "    return s"
   ]
  },
  {
   "cell_type": "code",
   "execution_count": 28,
   "id": "e32d486b",
   "metadata": {},
   "outputs": [],
   "source": [
    "def integral_trapezoid(f,N,a,b):\n",
    "\n",
    "    # Step size\n",
    "    w = (b-a)/N \n",
    "\n",
    "    # Calculate numerical integral\n",
    "    #   using the extended trapezoid rule \n",
    "    x = np.arange(1, N)\n",
    "    s = 0.5*f(a) + 0.5*f(b)\n",
    "    for k in x:\n",
    "        s+= f(a+k*w)\n",
    "    s = w*s\n",
    "    return s"
   ]
  },
  {
   "cell_type": "markdown",
   "id": "5cb01c59",
   "metadata": {},
   "source": [
    "Now lets define the Extended Simpsons method. \n",
    "\n",
    "Here is what we derived in class:\n",
    "\n",
    "$I(a,b) = \\frac{w}{3}[f(a)+f(b)+4\\sum_{k \\text{odd}}^{N-1} f(a+kw) + 2\\sum_{k \\text{even}}^{N-1} f(a+kw)]$\n",
    "\n",
    "Where:\n",
    "   * a = Lower Bound\n",
    "   * b = Upper Bound\n",
    "   * w = step width\n",
    "   * N = Total number of steps (must be even)\n",
    "   * k = Iteration value\n",
    "   \n",
    "Spend 10 minutes trying to code this in python on your own. If you want, you can scroll down and find the answer"
   ]
  },
  {
   "cell_type": "markdown",
   "id": "e748ac04",
   "metadata": {},
   "source": []
  },
  {
   "cell_type": "markdown",
   "id": "4e4eeb91",
   "metadata": {},
   "source": [
    "$ $\n",
    "\n",
    "$ $\n",
    "\n",
    "$ $\n",
    "\n",
    "$ $\n",
    "\n",
    "$ $\n",
    "\n",
    "Here is the answer:"
   ]
  },
  {
   "cell_type": "code",
   "execution_count": 29,
   "id": "979824e6",
   "metadata": {},
   "outputs": [],
   "source": [
    "def integral_simpsons(f,N,a,b):\n",
    "\n",
    "    if N%2!=0:\n",
    "        print(\"Please choose N even\")\n",
    "        raise ValueError\n",
    "    \n",
    "    # Step size\n",
    "    w = (b-a)/N \n",
    "\n",
    "    # Calculate numerical integral\n",
    "    #   using the extended trapezoid rule \n",
    "    \n",
    "    # Add together function values at end points\n",
    "    s = f(a) + f(b)\n",
    "    \n",
    "    # Add together function values at odd iterations\n",
    "    #   with weight 4\n",
    "    x = np.arange(1, N, 2)\n",
    "    for k in x:\n",
    "        s+= 4*f(a+k*w)\n",
    "        \n",
    "    # Add together function values at even iterations\n",
    "    #   with weight 4\n",
    "    x = np.arange(2, N, 2)\n",
    "    for k in x:\n",
    "        s+= 2*f(a+k*w)\n",
    "    \n",
    "    # Multiply all sums by step width divided by 3\n",
    "    s = w*s/3\n",
    "    \n",
    "    return s"
   ]
  },
  {
   "cell_type": "code",
   "execution_count": 68,
   "id": "a4616ed0",
   "metadata": {},
   "outputs": [
    {
     "data": {
      "text/plain": [
       "4.403292181069957"
      ]
     },
     "execution_count": 68,
     "metadata": {},
     "output_type": "execute_result"
    }
   ],
   "source": [
    "simpsons_integral(f,6,0,2)"
   ]
  },
  {
   "cell_type": "code",
   "execution_count": 52,
   "id": "3543c7dc",
   "metadata": {},
   "outputs": [],
   "source": [
    "def make_value_vs_N_array(integral_func):\n",
    "    N_array = np.arange(2,100,2,dtype='int64')\n",
    "    integral_results= []\n",
    "    for N in N_array:\n",
    "        integral_results.append(integral_func(f,N,a,b))\n",
    "    return N_array, integral_results"
   ]
  },
  {
   "cell_type": "code",
   "execution_count": 53,
   "id": "0153f8d5",
   "metadata": {},
   "outputs": [],
   "source": [
    "def percent_error(a,s_true):\n",
    "    return (np.array(a)-s_true)/s_true"
   ]
  },
  {
   "cell_type": "code",
   "execution_count": 54,
   "id": "ced99dec",
   "metadata": {},
   "outputs": [],
   "source": [
    "N_array, mid = make_value_vs_N_array(integral_midpoint)\n",
    "N_array, tra = make_value_vs_N_array(integral_trapezoid)\n",
    "N_array, sim = make_value_vs_N_array(integral_simpsons)"
   ]
  },
  {
   "cell_type": "code",
   "execution_count": 64,
   "id": "46aa5fa0",
   "metadata": {},
   "outputs": [
    {
     "data": {
      "text/plain": [
       "(4.3, 4.5)"
      ]
     },
     "execution_count": 64,
     "metadata": {},
     "output_type": "execute_result"
    },
    {
     "data": {
      "image/png": "[encoded data removed]",
      "text/plain": [
       "<Figure size 576x432 with 1 Axes>"
      ]
     },
     "metadata": {
      "needs_background": "light"
     },
     "output_type": "display_data"
    }
   ],
   "source": [
    "from matplotlib.ticker import (MultipleLocator, AutoMinorLocator)\n",
    "\n",
    "fig, ax = plt.subplots(figsize=(8, 6))\n",
    "ax.plot(N_array,mid,\".\",label=\"Midpoint\")\n",
    "ax.plot(N_array,tra,\".\",label=\"Trapezoid\")\n",
    "ax.plot(N_array,sim,\".\",label=\"Simpsons\")\n",
    "ax.grid(True)\n",
    "ax.legend(loc='upper right', fontsize='x-large')\n",
    "ax.set_xlabel(\"N\", fontsize=13)\n",
    "ax.set_ylabel(\"Integral result\", fontsize=13)\n",
    "ax.xaxis.set_major_locator(MultipleLocator(10))\n",
    "ax.xaxis.set_minor_locator(MultipleLocator(1))\n",
    "ax.tick_params(axis='both', which='major', length=8, labelsize=12,  direction = \"in\")\n",
    "ax.tick_params(axis='both', which='minor', length=4, direction = \"in\")\n",
    "ax.set_ylim(4.3,4.5)\n"
   ]
  },
  {
   "cell_type": "code",
   "execution_count": 65,
   "id": "ba82edf3",
   "metadata": {},
   "outputs": [],
   "source": [
    "mid_pe = percent_error(mid,integral_true)\n",
    "tra_pe = percent_error(tra,integral_true)\n",
    "sim_pe = percent_error(sim,integral_true)"
   ]
  },
  {
   "cell_type": "code",
   "execution_count": 66,
   "id": "b5b31040",
   "metadata": {},
   "outputs": [
    {
     "data": {
      "text/plain": [
       "(-0.1, 0.1)"
      ]
     },
     "execution_count": 66,
     "metadata": {},
     "output_type": "execute_result"
    },
    {
     "data": {
      "image/png": "[encoded data removed]",
      "text/plain": [
       "<Figure size 576x432 with 1 Axes>"
      ]
     },
     "metadata": {
      "needs_background": "light"
     },
     "output_type": "display_data"
    }
   ],
   "source": [
    "from matplotlib.ticker import (MultipleLocator, AutoMinorLocator)\n",
    "\n",
    "fig, ax = plt.subplots(figsize=(8, 6))\n",
    "ax.plot(N_array,mid_pe,\".\",label=\"Midpoint\")\n",
    "ax.plot(N_array,tra_pe,\".\",label=\"Trapezoid\")\n",
    "ax.plot(N_array,sim_pe,\".\",label=\"Simpsons\")\n",
    "ax.grid(True)\n",
    "ax.legend(loc='upper right', fontsize='x-large')\n",
    "ax.set_xlabel(\"N\", fontsize=13)\n",
    "ax.set_ylabel(\"Percent Error\", fontsize=13)\n",
    "ax.xaxis.set_major_locator(MultipleLocator(10))\n",
    "ax.xaxis.set_minor_locator(MultipleLocator(1))\n",
    "ax.tick_params(axis='both', which='major', length=8, labelsize=12,  direction = \"in\")\n",
    "ax.tick_params(axis='both', which='minor', length=4, direction = \"in\")\n",
    "ax.set_ylim(-0.1,0.1)\n"
   ]
  },
  {
   "cell_type": "code",
   "execution_count": 67,
   "id": "493b3cac",
   "metadata": {},
   "outputs": [
    {
     "data": {
      "image/png": "[encoded data removed]",
      "text/plain": [
       "<Figure size 576x432 with 1 Axes>"
      ]
     },
     "metadata": {
      "needs_background": "light"
     },
     "output_type": "display_data"
    }
   ],
   "source": [
    "from matplotlib.ticker import (MultipleLocator, AutoMinorLocator)\n",
    "\n",
    "fig, ax = plt.subplots(figsize=(8, 6))\n",
    "ax.plot(N_array,np.fabs(mid_pe),\".\",label=\"Midpoint\")\n",
    "ax.plot(N_array,np.fabs(tra_pe),\".\",label=\"Trapezoid\")\n",
    "ax.plot(N_array,np.fabs(sim_pe),\".\",label=\"Simpsons\")\n",
    "ax.grid(True)\n",
    "ax.legend(loc='upper right', fontsize='x-large')\n",
    "ax.set_xlabel(\"N\", fontsize=13)\n",
    "ax.set_ylabel(\"|Percent Error|\", fontsize=13)\n",
    "ax.xaxis.set_major_locator(MultipleLocator(10))\n",
    "ax.xaxis.set_minor_locator(MultipleLocator(1))\n",
    "ax.tick_params(axis='both', which='major', length=8, labelsize=12,  direction = \"in\")\n",
    "ax.tick_params(axis='both', which='minor', length=4, direction = \"in\")\n",
    "plt.yscale('log')"
   ]
  },
  {
   "cell_type": "markdown",
   "id": "138ea89e",
   "metadata": {},
   "source": [
    "### Gaussian Quadriture\n",
    "\n",
    "Here are the functions provided by Mark Newman within his textbook \"Computational Physics\""
   ]
  },
  {
   "cell_type": "code",
   "execution_count": 69,
   "id": "90324bda",
   "metadata": {},
   "outputs": [],
   "source": [
    "######################################################################\n",
    "#\n",
    "# Functions to calculate integration points and weights for Gaussian\n",
    "# quadrature\n",
    "#\n",
    "# x,w = gaussxw(N) returns integration points x and integration\n",
    "#           weights w such that sum_i w[i]*f(x[i]) is the Nth-order\n",
    "#           Gaussian approximation to the integral int_{-1}^1 f(x) dx\n",
    "# x,w = gaussxwab(N,a,b) returns integration points and weights\n",
    "#           mapped to the interval [a,b], so that sum_i w[i]*f(x[i])\n",
    "#           is the Nth-order Gaussian approximation to the integral\n",
    "#           int_a^b f(x) dx\n",
    "#\n",
    "# This code finds the zeros of the nth Legendre polynomial using\n",
    "# Newton's method, starting from the approximation given in Abramowitz\n",
    "# and Stegun 22.16.6.  The Legendre polynomial itself is evaluated\n",
    "# using the recurrence relation given in Abramowitz and Stegun\n",
    "# 22.7.10.  The function has been checked against other sources for\n",
    "# values of N up to 1000.  It is compatible with version 2 and version\n",
    "# 3 of Python.\n",
    "#\n",
    "# Written by Mark Newman <mejn@umich.edu>, June 4, 2011\n",
    "# You may use, share, or modify this file freely\n",
    "#\n",
    "######################################################################\n",
    "\n",
    "from numpy import ones,copy,cos,tan,pi,linspace\n",
    "\n",
    "def gaussxw(N):\n",
    "\n",
    "    # Initial approximation to roots of the Legendre polynomial\n",
    "    a = linspace(3,4*N-1,N)/(4*N+2)\n",
    "    x = cos(pi*a+1/(8*N*N*tan(a)))\n",
    "\n",
    "    # Find roots using Newton's method\n",
    "    epsilon = 1e-15\n",
    "    delta = 1.0\n",
    "    while delta>epsilon:\n",
    "        p0 = ones(N,float)\n",
    "        p1 = copy(x)\n",
    "        for k in range(1,N):\n",
    "            p0,p1 = p1,((2*k+1)*x*p1-k*p0)/(k+1)\n",
    "        dp = (N+1)*(p0-x*p1)/(1-x*x)\n",
    "        dx = p1/dp\n",
    "        x -= dx\n",
    "        delta = max(abs(dx))\n",
    "\n",
    "    # Calculate the weights\n",
    "    w = 2*(N+1)*(N+1)/(N*N*(1-x*x)*dp*dp)\n",
    "\n",
    "    return x,w\n",
    "\n",
    "def gaussxwab(N,a,b):\n",
    "    x,w = gaussxw(N)\n",
    "    return 0.5*(b-a)*x+0.5*(b+a),0.5*(b-a)*w\n"
   ]
  },
  {
   "cell_type": "code",
   "execution_count": 70,
   "id": "d5febd41",
   "metadata": {},
   "outputs": [
    {
     "name": "stdout",
     "output_type": "stream",
     "text": [
      "4.4000000000000075\n"
     ]
    }
   ],
   "source": [
    "# Mark Newman\n",
    "# gaussint.py\n",
    "\n",
    "N = 3\n",
    "a = 0.0\n",
    "b = 2.0\n",
    "\n",
    "# Calculate the sample points and weights, then map them\n",
    "# to the required integration domain\n",
    "x,w = gaussxw(N)\n",
    "xp = 0.5*(b-a)*x + 0.5*(b+a)\n",
    "wp = 0.5*(b-a)*w\n",
    "\n",
    "# Perform the integration\n",
    "s = 0.0\n",
    "for k in range(N):\n",
    "    s += wp[k]*f(xp[k])\n",
    "\n",
    "print(s)\n"
   ]
  },
  {
   "cell_type": "code",
   "execution_count": 71,
   "id": "a097ac10",
   "metadata": {},
   "outputs": [],
   "source": [
    "def integral_gauss(f,N,a,b):\n",
    "\n",
    "    # Calculate the sample points and weights, then map them\n",
    "    # to the required integration domain\n",
    "    x,w = gaussxw(N)\n",
    "    xp = 0.5*(b-a)*x + 0.5*(b+a)\n",
    "    wp = 0.5*(b-a)*w\n",
    "\n",
    "    # Perform the integration\n",
    "    s = 0.0\n",
    "    for k in range(N):\n",
    "        s += wp[k]*f(xp[k])\n",
    "    \n",
    "    return s"
   ]
  },
  {
   "cell_type": "code",
   "execution_count": 73,
   "id": "c434de3d",
   "metadata": {},
   "outputs": [],
   "source": [
    "N_array, gau = make_value_vs_N_array(integral_gauss)\n",
    "gau_pe = percent_error(gau,integral_true)"
   ]
  },
  {
   "cell_type": "code",
   "execution_count": 74,
   "id": "63e717fe",
   "metadata": {},
   "outputs": [
    {
     "data": {
      "image/png": "[encoded data removed]",
      "text/plain": [
       "<Figure size 576x432 with 1 Axes>"
      ]
     },
     "metadata": {
      "needs_background": "light"
     },
     "output_type": "display_data"
    }
   ],
   "source": [
    "from matplotlib.ticker import (MultipleLocator, AutoMinorLocator)\n",
    "\n",
    "fig, ax = plt.subplots(figsize=(8, 6))\n",
    "ax.plot(N_array,np.fabs(mid_pe),\".\",label=\"Midpoint\")\n",
    "ax.plot(N_array,np.fabs(tra_pe),\".\",label=\"Trapezoid\")\n",
    "ax.plot(N_array,np.fabs(sim_pe),\".\",label=\"Simpsons\")\n",
    "ax.plot(N_array,np.fabs(gau_pe),\".\",label=\"Gauss\")\n",
    "ax.grid(True)\n",
    "ax.legend(loc='upper right', fontsize='x-large')\n",
    "ax.set_xlabel(\"N\", fontsize=13)\n",
    "ax.set_ylabel(\"|Percent Error|\", fontsize=13)\n",
    "ax.xaxis.set_major_locator(MultipleLocator(10))\n",
    "ax.xaxis.set_minor_locator(MultipleLocator(1))\n",
    "ax.tick_params(axis='both', which='major', length=8, labelsize=12,  direction = \"in\")\n",
    "ax.tick_params(axis='both', which='minor', length=4, direction = \"in\")\n",
    "plt.yscale('log')"
   ]
  },
  {
   "cell_type": "markdown",
   "id": "09513a4a",
   "metadata": {},
   "source": [
    "Now that we know how to do numerical integration \"by hand\", we should also be aware that there are python libraries that can do this for us!\n",
    "\n",
    "https://docs.scipy.org/doc/scipy/reference/tutorial/integrate.html\n",
    "\n",
    "```\n",
    ">>> help(integrate)\n",
    " Methods for Integrating Functions given function object.\n",
    "\n",
    "   quad          -- General purpose integration.\n",
    "   dblquad       -- General purpose double integration.\n",
    "   tplquad       -- General purpose triple integration.\n",
    "   fixed_quad    -- Integrate func(x) using Gaussian quadrature of order n.\n",
    "   quadrature    -- Integrate with given tolerance using Gaussian quadrature.\n",
    "   romberg       -- Integrate func using Romberg integration.\n",
    "\n",
    " Methods for Integrating Functions given fixed samples.\n",
    "\n",
    "   trapezoid            -- Use trapezoidal rule to compute integral.\n",
    "   cumulative_trapezoid -- Use trapezoidal rule to cumulatively compute integral.\n",
    "   simpson              -- Use Simpson's rule to compute integral from samples.\n",
    "   romb                 -- Use Romberg Integration to compute integral from\n",
    "                        -- (2**k + 1) evenly-spaced samples.\n",
    "\n",
    "   See the special module's orthogonal polynomials (special) for Gaussian\n",
    "      quadrature roots and weights for other weighting factors and regions.\n",
    "\n",
    " Interface to numerical integrators of ODE systems.\n",
    "\n",
    "   odeint        -- General integration of ordinary differential equations.\n",
    "   ode           -- Integrate ODE using VODE and ZVODE routines.\n",
    "```\n",
    "\n",
    "https://docs.scipy.org/doc/scipy/reference/reference/generated/scipy.integrate.quad.html#scipy.integrate.quad\n",
    "\n",
    "```\n",
    "\n",
    " scipy.integrate.quad(func, a, b, args=(), full_output=0, epsabs=1.49e-08, epsrel=1.49e-08, limit=50, points=None, weight=None, wvar=None, wopts=None, maxp1=50, limlst=50)[source]\n",
    "\n",
    "    Compute a definite integral.\n",
    "\n",
    "    Integrate func from a to b (possibly infinite interval) using a technique from the Fortran library QUADPACK.\n",
    "    \n",
    "``` \n",
    "\n",
    "* set accuracy and tolerance with epsrel and epsabs \n",
    "   * epsrel (relative error tolerance) (fractional)\n",
    "   * epsabs (absolute error tolerance)\n",
    "\n",
    "\n",
    "* quad uses a FORTRAN library called quadpack\n",
    "   * Uses 9 different methods and attempts to find an estimated integral within the error tolerance you requested"
   ]
  },
  {
   "cell_type": "code",
   "execution_count": 75,
   "id": "8a844869",
   "metadata": {},
   "outputs": [],
   "source": [
    "from scipy.integrate import quad"
   ]
  },
  {
   "cell_type": "code",
   "execution_count": 77,
   "id": "78a6b4e8",
   "metadata": {},
   "outputs": [
    {
     "data": {
      "text/plain": [
       "(4.3999999999999995, 5.003996496050337e-14)"
      ]
     },
     "execution_count": 77,
     "metadata": {},
     "output_type": "execute_result"
    }
   ],
   "source": [
    "def f(x):\n",
    "    return x**4 - 2*x +1\n",
    "\n",
    "# Integrate function f between 0 and 2\n",
    "quad(f,0,2)"
   ]
  },
  {
   "cell_type": "code",
   "execution_count": 78,
   "id": "153c3f30",
   "metadata": {},
   "outputs": [
    {
     "data": {
      "text/plain": [
       "tuple"
      ]
     },
     "execution_count": 78,
     "metadata": {},
     "output_type": "execute_result"
    }
   ],
   "source": [
    "I = quad(f,0,2)\n",
    "type(I)"
   ]
  },
  {
   "cell_type": "code",
   "execution_count": 79,
   "id": "a971eebe",
   "metadata": {},
   "outputs": [
    {
     "name": "stdout",
     "output_type": "stream",
     "text": [
      "Integral of f = 4.3999999999999995  +-  5.003996496050337e-14\n"
     ]
    }
   ],
   "source": [
    "result = I[0]  # element 0 is the estimated value of the integral\n",
    "error  = I[1]  # upper bound on the error\n",
    "print(\"Integral of f =\",result,\" +- \",error)"
   ]
  },
  {
   "cell_type": "code",
   "execution_count": null,
   "id": "53f72ec8",
   "metadata": {},
   "outputs": [],
   "source": [
    "result, error = quad(f,0,2, trapezoid ) "
   ]
  },
  {
   "cell_type": "code",
   "execution_count": 86,
   "id": "a653fff5",
   "metadata": {},
   "outputs": [
    {
     "name": "stdout",
     "output_type": "stream",
     "text": [
      "Quad integral of f = 4.3999999999999995  +-  5.003996496050337e-14\n"
     ]
    }
   ],
   "source": [
    "from scipy import integrate\n",
    "\n",
    "I1 , E1 = integrate.quad(f,0,2)\n",
    "print(\"Quad integral of f =\",I1,\" +- \",E1)\n"
   ]
  },
  {
   "cell_type": "code",
   "execution_count": null,
   "id": "6fc56ac5",
   "metadata": {},
   "outputs": [],
   "source": []
  },
  {
   "cell_type": "code",
   "execution_count": 80,
   "id": "8ac4c31e",
   "metadata": {},
   "outputs": [
    {
     "name": "stdout",
     "output_type": "stream",
     "text": [
      "60.00000000000001\n"
     ]
    }
   ],
   "source": [
    "# If you have a function with multiple paramters you can feed them to quad with args\n",
    "\n",
    "def f2(x,a,b,c):\n",
    "    return a*x**2 + b*x +c\n",
    "\n",
    "a = 6\n",
    "b = 20\n",
    "c = 2\n",
    "\n",
    "I = quad(f2,0,2, args=(a,b,c))\n",
    "print(I[0])"
   ]
  },
  {
   "cell_type": "code",
   "execution_count": null,
   "id": "a3d35f72",
   "metadata": {},
   "outputs": [],
   "source": []
  },
  {
   "cell_type": "code",
   "execution_count": null,
   "id": "a683a30b",
   "metadata": {},
   "outputs": [],
   "source": []
  },
  {
   "cell_type": "markdown",
   "id": "cc236c91",
   "metadata": {},
   "source": [
    "The following may be helpful for homework 3"
   ]
  },
  {
   "cell_type": "code",
   "execution_count": 103,
   "id": "4e77f8e0",
   "metadata": {},
   "outputs": [
    {
     "data": {
      "text/plain": [
       "[<matplotlib.lines.Line2D at 0x7ffa9a175fa0>]"
      ]
     },
     "execution_count": 103,
     "metadata": {},
     "output_type": "execute_result"
    },
    {
     "data": {
      "image/png": "[encoded data removed]",
      "text/plain": [
       "<Figure size 432x288 with 1 Axes>"
      ]
     },
     "metadata": {
      "needs_background": "light"
     },
     "output_type": "display_data"
    }
   ],
   "source": [
    "import numpy as np\n",
    "time, velocity = np.loadtxt('http://www-personal.umich.edu/~mejn/cp/data/velocities.txt', unpack=True)\n",
    "\n",
    "plt.plot(time,velocity)"
   ]
  },
  {
   "cell_type": "code",
   "execution_count": null,
   "id": "1df6c6b7",
   "metadata": {},
   "outputs": [],
   "source": []
  },
  {
   "cell_type": "code",
   "execution_count": null,
   "id": "e624ae53",
   "metadata": {},
   "outputs": [],
   "source": []
  },
  {
   "cell_type": "code",
   "execution_count": null,
   "id": "634e5586",
   "metadata": {},
   "outputs": [],
   "source": []
  },
  {
   "cell_type": "code",
   "execution_count": null,
   "id": "10767d58",
   "metadata": {},
   "outputs": [],
   "source": [
    "\n"
   ]
  },
  {
   "cell_type": "code",
   "execution_count": null,
   "id": "da0c65d6",
   "metadata": {},
   "outputs": [],
   "source": []
  },
  {
   "cell_type": "code",
   "execution_count": null,
   "id": "a4105a44",
   "metadata": {},
   "outputs": [],
   "source": []
  }
 ],
 "metadata": {
  "kernelspec": {
   "display_name": "Python 3",
   "language": "python",
   "name": "python3"
  },
  "language_info": {
   "codemirror_mode": {
    "name": "ipython",
    "version": 3
   },
   "file_extension": ".py",
   "mimetype": "text/x-python",
   "name": "python",
   "nbconvert_exporter": "python",
   "pygments_lexer": "ipython3",
   "version": "3.8.8"
  }
 },
 "nbformat": 4,
 "nbformat_minor": 5
}
